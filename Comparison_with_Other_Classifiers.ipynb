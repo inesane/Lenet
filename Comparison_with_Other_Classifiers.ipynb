{
  "nbformat": 4,
  "nbformat_minor": 0,
  "metadata": {
    "colab": {
      "name": "Comparison with Other Classifiers.ipynb",
      "provenance": [],
      "collapsed_sections": []
    },
    "kernelspec": {
      "name": "python3",
      "display_name": "Python 3"
    },
    "language_info": {
      "name": "python"
    },
    "accelerator": "TPU"
  },
  "cells": [
    {
      "cell_type": "code",
      "metadata": {
        "colab": {
          "base_uri": "https://localhost:8080/"
        },
        "id": "dMjLix5Tg_Rj",
        "outputId": "84f9d16e-32db-414f-8f85-01916596e46b"
      },
      "source": [
        "!pip install python-mnist"
      ],
      "execution_count": 53,
      "outputs": [
        {
          "output_type": "stream",
          "name": "stdout",
          "text": [
            "Requirement already satisfied: python-mnist in /usr/local/lib/python3.7/dist-packages (0.7)\n"
          ]
        }
      ]
    },
    {
      "cell_type": "code",
      "metadata": {
        "id": "eYaOHo8NgYpF"
      },
      "source": [
        "from mnist.loader import MNIST\n",
        "import pandas as pd"
      ],
      "execution_count": 54,
      "outputs": []
    },
    {
      "cell_type": "code",
      "metadata": {
        "id": "DcCiUXudySe6"
      },
      "source": [
        "def Accuracy(y_true, y_pred):\n",
        "  corr = 0\n",
        "  for num,i in enumerate(y_true):\n",
        "    if i==y_pred[num]:\n",
        "      corr+=1\n",
        "  corr /= len(y_true)\n",
        "  return corr*100"
      ],
      "execution_count": 55,
      "outputs": []
    },
    {
      "cell_type": "code",
      "metadata": {
        "id": "YKVjndy0gJkZ"
      },
      "source": [
        "def loadMNIST():\n",
        "    mndata = MNIST('/content/MNIST')\n",
        "    imagesTest, labelsTest = mndata.load_training()\n",
        "    imagesTrain, labelsTrain = mndata.load_testing()\n",
        "    return imagesTrain, labelsTrain, imagesTest, labelsTest\n",
        "X_train, y_train, X_test, y_test = loadMNIST()"
      ],
      "execution_count": 56,
      "outputs": []
    },
    {
      "cell_type": "code",
      "metadata": {
        "id": "1mvxnN6IgYMj"
      },
      "source": [
        "from sklearn.linear_model import LogisticRegression\n",
        "def Linear_Classifier_and_Pairwise_Linear_Classifier():\n",
        "    model = LogisticRegression(random_state=0, max_iter=1000)\n",
        "    model = model.fit(X_train, y_train)\n",
        "    return Accuracy(model.predict(X_test), y_test)"
      ],
      "execution_count": 57,
      "outputs": []
    },
    {
      "cell_type": "code",
      "metadata": {
        "id": "SXeKo6Q6r9XY"
      },
      "source": [
        "from sklearn.neighbors import KNeighborsClassifier\n",
        "def Baseline_Nearest_Neighbor_Classifer():\n",
        "    # k=3 was picked from the paper \n",
        "    # sklearn's defualt is 5\n",
        "    model = KNeighborsClassifier(n_neighbors=3)\n",
        "    model = model.fit(X_train, y_train)\n",
        "    return Accuracy(model.predict(X_test), y_test)"
      ],
      "execution_count": 58,
      "outputs": []
    },
    {
      "cell_type": "code",
      "metadata": {
        "id": "RTBHulyH7fma"
      },
      "source": [
        "from sklearn.decomposition import PCA\n",
        "from sklearn.preprocessing import PolynomialFeatures\n",
        "from sklearn.linear_model import LogisticRegression\n",
        "def Principal_Component_Analysis_and_Polynomial_Classifier():\n",
        "    # Convert 28*28 dim to 40\n",
        "    # used to train a 2nd degree polynomial Classifer\n",
        "    pca = PCA(n_components=40).fit(X_train)\n",
        "    poly = PolynomialFeatures(2)\n",
        "    X_train_updated = poly.fit_transform(pca.transform(X_train))\n",
        "    X_test_updated = poly.transform(pca.transform(X_test))\n",
        "    model = LogisticRegression(random_state=0, max_iter=1000)\n",
        "    model = model.fit(X_train_updated, y_train)\n",
        "    return Accuracy(model.predict(X_test_updated), y_test)"
      ],
      "execution_count": 59,
      "outputs": []
    },
    {
      "cell_type": "code",
      "metadata": {
        "id": "XvOSD5c0sLo3"
      },
      "source": [
        "models = [\"Linear_Classifier_and_Pairwise_Linear_Classifier\", \"Baseline_Nearest_Neighbor_Classifer\", \n",
        "          \"Principal_Component_Analysis_and_Polynomial_Classifier\"]\n",
        "names, acc = [], []\n",
        "for i in models:\n",
        "    names.append(\" \".join(i.split(\"_\")))\n",
        "    acc.append(eval(i + \"()\"))\n",
        "df = pd.DataFrame()\n",
        "df[\"Models\"] = names\n",
        "df[\"Accuracies\"] = acc"
      ],
      "execution_count": null,
      "outputs": []
    },
    {
      "cell_type": "code",
      "metadata": {
        "colab": {
          "base_uri": "https://localhost:8080/",
          "height": 144
        },
        "id": "3C4_mhUr-BSq",
        "outputId": "1e6d59e2-b64f-4646-9ab1-5ef4aaad1ffb"
      },
      "source": [
        "df"
      ],
      "execution_count": 61,
      "outputs": [
        {
          "output_type": "execute_result",
          "data": {
            "text/html": [
              "<div>\n",
              "<style scoped>\n",
              "    .dataframe tbody tr th:only-of-type {\n",
              "        vertical-align: middle;\n",
              "    }\n",
              "\n",
              "    .dataframe tbody tr th {\n",
              "        vertical-align: top;\n",
              "    }\n",
              "\n",
              "    .dataframe thead th {\n",
              "        text-align: right;\n",
              "    }\n",
              "</style>\n",
              "<table border=\"1\" class=\"dataframe\">\n",
              "  <thead>\n",
              "    <tr style=\"text-align: right;\">\n",
              "      <th></th>\n",
              "      <th>Models</th>\n",
              "      <th>Accuracies</th>\n",
              "    </tr>\n",
              "  </thead>\n",
              "  <tbody>\n",
              "    <tr>\n",
              "      <th>0</th>\n",
              "      <td>Linear Classifier and Pairwise Linear Classifier</td>\n",
              "      <td>85.881667</td>\n",
              "    </tr>\n",
              "    <tr>\n",
              "      <th>1</th>\n",
              "      <td>Baseline Nearest Neighbor Classifer</td>\n",
              "      <td>94.283333</td>\n",
              "    </tr>\n",
              "    <tr>\n",
              "      <th>2</th>\n",
              "      <td>Principal Component Analysis and Polynomial Cl...</td>\n",
              "      <td>95.143333</td>\n",
              "    </tr>\n",
              "  </tbody>\n",
              "</table>\n",
              "</div>"
            ],
            "text/plain": [
              "                                              Models  Accuracies\n",
              "0   Linear Classifier and Pairwise Linear Classifier   85.881667\n",
              "1                Baseline Nearest Neighbor Classifer   94.283333\n",
              "2  Principal Component Analysis and Polynomial Cl...   95.143333"
            ]
          },
          "metadata": {},
          "execution_count": 61
        }
      ]
    }
  ]
}