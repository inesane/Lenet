{
  "nbformat": 4,
  "nbformat_minor": 0,
  "metadata": {
    "colab": {
      "name": "Comparison with Other Classifiers.ipynb",
      "provenance": []
    },
    "kernelspec": {
      "name": "python3",
      "display_name": "Python 3"
    },
    "language_info": {
      "name": "python"
    },
    "accelerator": "TPU"
  },
  "cells": [
    {
      "cell_type": "code",
      "metadata": {
        "colab": {
          "base_uri": "https://localhost:8080/"
        },
        "id": "dMjLix5Tg_Rj",
        "outputId": "4d73575c-b356-4ecc-f7de-89effe1eb876"
      },
      "source": [
        "!pip install python-mnist"
      ],
      "execution_count": 23,
      "outputs": [
        {
          "output_type": "stream",
          "name": "stdout",
          "text": [
            "Requirement already satisfied: python-mnist in /usr/local/lib/python3.7/dist-packages (0.7)\n"
          ]
        }
      ]
    },
    {
      "cell_type": "code",
      "metadata": {
        "id": "eYaOHo8NgYpF"
      },
      "source": [
        "from mnist.loader import MNIST\n",
        "import pandas as pd"
      ],
      "execution_count": 24,
      "outputs": []
    },
    {
      "cell_type": "code",
      "metadata": {
        "id": "DcCiUXudySe6"
      },
      "source": [
        "def Accuracy(y_true, y_pred):\n",
        "  corr = 0\n",
        "  for num,i in enumerate(y_true):\n",
        "    if i==y_pred[num]:\n",
        "      corr+=1\n",
        "  corr /= len(y_true)\n",
        "  return corr*100"
      ],
      "execution_count": 25,
      "outputs": []
    },
    {
      "cell_type": "code",
      "metadata": {
        "id": "YKVjndy0gJkZ"
      },
      "source": [
        "def loadMNIST():\n",
        "    mndata = MNIST('/content/MNIST')\n",
        "    imagesTest, labelsTest = mndata.load_training()\n",
        "    imagesTrain, labelsTrain = mndata.load_testing()\n",
        "    return imagesTrain, labelsTrain, imagesTest, labelsTest\n",
        "X_train, y_train, X_test, y_test = loadMNIST()"
      ],
      "execution_count": 26,
      "outputs": []
    },
    {
      "cell_type": "code",
      "metadata": {
        "id": "1mvxnN6IgYMj"
      },
      "source": [
        "from sklearn.linear_model import LogisticRegression\n",
        "def Linear_Classifier_and_Pairwise_Linear_Classifier():\n",
        "    model = LogisticRegression(random_state=0, max_iter=1000)\n",
        "    model = model.fit(X_train, y_train)\n",
        "    return Accuracy(model.predict(X_test), y_test)"
      ],
      "execution_count": 27,
      "outputs": []
    },
    {
      "cell_type": "code",
      "metadata": {
        "id": "SXeKo6Q6r9XY"
      },
      "source": [
        "from sklearn.neighbors import KNeighborsClassifier\n",
        "def Baseline_Nearest_Neighbor_Classifer():\n",
        "    model = KNeighborsClassifier()\n",
        "    model = model.fit(X_train, y_train)\n",
        "    return Accuracy(model.predict(X_test), y_test)"
      ],
      "execution_count": 28,
      "outputs": []
    },
    {
      "cell_type": "code",
      "metadata": {
        "colab": {
          "base_uri": "https://localhost:8080/",
          "height": 258
        },
        "id": "XvOSD5c0sLo3",
        "outputId": "400cf25e-2cfa-40e4-ba8d-7236c4477a90"
      },
      "source": [
        "models = [\"Linear_Classifier_and_Pairwise_Linear_Classifier\", \"Baseline_Nearest_Neighbor_Classifer\"]\n",
        "names, acc = [], []\n",
        "for i in models:\n",
        "    names.append(\" \".join(i.split(\"_\")))\n",
        "    acc.append(eval(i + \"()\"))\n",
        "df = pd.DataFrame()\n",
        "df[\"Models\"] = names\n",
        "df[\"Accuracies\"] = acc\n",
        "df"
      ],
      "execution_count": 29,
      "outputs": [
        {
          "output_type": "stream",
          "name": "stderr",
          "text": [
            "/usr/local/lib/python3.7/dist-packages/sklearn/linear_model/_logistic.py:818: ConvergenceWarning: lbfgs failed to converge (status=1):\n",
            "STOP: TOTAL NO. of ITERATIONS REACHED LIMIT.\n",
            "\n",
            "Increase the number of iterations (max_iter) or scale the data as shown in:\n",
            "    https://scikit-learn.org/stable/modules/preprocessing.html\n",
            "Please also refer to the documentation for alternative solver options:\n",
            "    https://scikit-learn.org/stable/modules/linear_model.html#logistic-regression\n",
            "  extra_warning_msg=_LOGISTIC_SOLVER_CONVERGENCE_MSG,\n"
          ]
        },
        {
          "output_type": "execute_result",
          "data": {
            "text/html": [
              "<div>\n",
              "<style scoped>\n",
              "    .dataframe tbody tr th:only-of-type {\n",
              "        vertical-align: middle;\n",
              "    }\n",
              "\n",
              "    .dataframe tbody tr th {\n",
              "        vertical-align: top;\n",
              "    }\n",
              "\n",
              "    .dataframe thead th {\n",
              "        text-align: right;\n",
              "    }\n",
              "</style>\n",
              "<table border=\"1\" class=\"dataframe\">\n",
              "  <thead>\n",
              "    <tr style=\"text-align: right;\">\n",
              "      <th></th>\n",
              "      <th>Models</th>\n",
              "      <th>Accuracies</th>\n",
              "    </tr>\n",
              "  </thead>\n",
              "  <tbody>\n",
              "    <tr>\n",
              "      <th>0</th>\n",
              "      <td>Linear Classifier and Pairwise Linear Classifier</td>\n",
              "      <td>85.881667</td>\n",
              "    </tr>\n",
              "    <tr>\n",
              "      <th>1</th>\n",
              "      <td>Baseline Nearest Neighbor Classifer</td>\n",
              "      <td>94.251667</td>\n",
              "    </tr>\n",
              "  </tbody>\n",
              "</table>\n",
              "</div>"
            ],
            "text/plain": [
              "                                             Models  Accuracies\n",
              "0  Linear Classifier and Pairwise Linear Classifier   85.881667\n",
              "1               Baseline Nearest Neighbor Classifer   94.251667"
            ]
          },
          "metadata": {},
          "execution_count": 29
        }
      ]
    }
  ]
}