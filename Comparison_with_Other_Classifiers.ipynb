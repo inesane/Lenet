{
  "nbformat": 4,
  "nbformat_minor": 0,
  "metadata": {
    "colab": {
      "name": "Comparison with Other Classifiers.ipynb",
      "provenance": [],
      "collapsed_sections": []
    },
    "kernelspec": {
      "name": "python3",
      "display_name": "Python 3"
    },
    "language_info": {
      "name": "python"
    },
    "accelerator": "TPU"
  },
  "cells": [
    {
      "cell_type": "code",
      "metadata": {
        "colab": {
          "base_uri": "https://localhost:8080/"
        },
        "id": "dMjLix5Tg_Rj",
        "outputId": "093c1889-4d30-4f37-82b4-863a2dabc731"
      },
      "source": [
        "!pip install python-mnist"
      ],
      "execution_count": 1,
      "outputs": [
        {
          "output_type": "stream",
          "name": "stdout",
          "text": [
            "Requirement already satisfied: python-mnist in /usr/local/lib/python3.7/dist-packages (0.7)\n"
          ]
        }
      ]
    },
    {
      "cell_type": "code",
      "metadata": {
        "id": "eYaOHo8NgYpF"
      },
      "source": [
        "from mnist.loader import MNIST\n",
        "import pandas as pd\n",
        "import numpy as np\n",
        "import keras\n",
        "from keras.models import Sequential\n",
        "from keras.layers import Dense, Conv2D, Flatten, AveragePooling2D"
      ],
      "execution_count": 2,
      "outputs": []
    },
    {
      "cell_type": "code",
      "metadata": {
        "id": "DcCiUXudySe6"
      },
      "source": [
        "def Accuracy(y_true, y_pred):\n",
        "  corr = 0\n",
        "  for num,i in enumerate(y_true):\n",
        "    if i==y_pred[num]:\n",
        "      corr+=1\n",
        "  corr /= len(y_true)\n",
        "  return corr*100"
      ],
      "execution_count": 3,
      "outputs": []
    },
    {
      "cell_type": "code",
      "metadata": {
        "id": "YKVjndy0gJkZ"
      },
      "source": [
        "def loadMNIST():\n",
        "    mndata = MNIST('/content/MNIST')\n",
        "    imagesTest, labelsTest = mndata.load_training()\n",
        "    imagesTrain, labelsTrain = mndata.load_testing()\n",
        "    return imagesTrain, labelsTrain, imagesTest, labelsTest\n",
        "X_train, y_train, X_test, y_test = loadMNIST()\n",
        "X_train = np.array(X_train)\n",
        "X_test = np.array(X_test)"
      ],
      "execution_count": 4,
      "outputs": []
    },
    {
      "cell_type": "code",
      "metadata": {
        "id": "LC_mzLZabClR"
      },
      "source": [
        "y_train_nn = np.array([ [0 for i in range(10)] for i in y_train ])\n",
        "for i in y_train:\n",
        "    y_train_nn[i] = 1\n",
        "y_test_nn = np.array([ [0 for i in range(10)] for i in y_test ])\n",
        "for i in y_test:\n",
        "    y_test_nn[i] = 1"
      ],
      "execution_count": 5,
      "outputs": []
    },
    {
      "cell_type": "code",
      "metadata": {
        "id": "1mvxnN6IgYMj"
      },
      "source": [
        "from sklearn.linear_model import LogisticRegression\n",
        "def Linear_Classifier_and_Pairwise_Linear_Classifier():\n",
        "    model = LogisticRegression(random_state=0, max_iter=1000)\n",
        "    model = model.fit(X_train, y_train)\n",
        "    return [Accuracy(model.predict(X_test), y_test)]"
      ],
      "execution_count": 8,
      "outputs": []
    },
    {
      "cell_type": "code",
      "metadata": {
        "id": "SXeKo6Q6r9XY"
      },
      "source": [
        "from sklearn.neighbors import KNeighborsClassifier\n",
        "def Baseline_Nearest_Neighbor_Classifer():\n",
        "    # k=3 was picked from the paper \n",
        "    # sklearn's defualt is 5\n",
        "    model = KNeighborsClassifier(n_neighbors=3)\n",
        "    model = model.fit(X_train, y_train)\n",
        "    return [Accuracy(model.predict(X_test), y_test)]"
      ],
      "execution_count": null,
      "outputs": []
    },
    {
      "cell_type": "code",
      "metadata": {
        "id": "RTBHulyH7fma"
      },
      "source": [
        "from sklearn.decomposition import PCA\n",
        "from sklearn.preprocessing import PolynomialFeatures\n",
        "from sklearn.linear_model import LogisticRegression\n",
        "def Principal_Component_Analysis_and_Polynomial_Classifier():\n",
        "    # Convert 28*28 dim to 40\n",
        "    # used to train a 2nd degree polynomial Classifer\n",
        "    pca = PCA(n_components=40).fit(X_train)\n",
        "    poly = PolynomialFeatures(2)\n",
        "    X_train_updated = poly.fit_transform(pca.transform(X_train))\n",
        "    X_test_updated = poly.transform(pca.transform(X_test))\n",
        "    model = LogisticRegression(random_state=0, max_iter=1000)\n",
        "    model = model.fit(X_train_updated, y_train)\n",
        "    return [Accuracy(model.predict(X_test_updated), y_test)]"
      ],
      "execution_count": null,
      "outputs": []
    },
    {
      "cell_type": "code",
      "metadata": {
        "id": "3C4_mhUr-BSq"
      },
      "source": [
        "def OneHidden_Layer_Neural_Network():\n",
        "    ret = {}\n",
        "    \n",
        "    # 300 layer\n",
        "    model_300 = Sequential()\n",
        "    model_300.add(Dense(300, input_dim=784, activation=\"tanh\"))\n",
        "    model_300.add(Dense(10, activation=\"sigmoid\"))\n",
        "    model_300.compile(loss='categorical_crossentropy', optimizer='adam', metrics=['accuracy'])\n",
        "    history = model_300.fit(X_train, y_train_nn,validation_data = (X_test,y_test_nn), epochs=100, batch_size=64)\n",
        "    ret[\"28*28-300-10\"] =  history.history['val_accuracy'][-1]\n",
        "\n",
        "    # 1000 layer\n",
        "    model_1000 = Sequential()\n",
        "    model_1000.add(Dense(1000, input_dim=784, activation=\"tanh\"))\n",
        "    model_1000.add(Dense(10, activation=\"sigmoid\"))\n",
        "    model_1000.compile(loss='categorical_crossentropy', optimizer='adam', metrics=['accuracy'])\n",
        "    history = model_1000.fit(X_train, y_train_nn,validation_data = (X_test,y_test_nn), epochs=100, batch_size=64)\n",
        "    ret[\"28*28-1000-10\"] =  history.history['val_accuracy'][-1]\n",
        "\n",
        "    return ret"
      ],
      "execution_count": null,
      "outputs": []
    },
    {
      "cell_type": "code",
      "metadata": {
        "id": "cZQK8IlchFTE"
      },
      "source": [
        "def TwoHidden_Layer_Neural_Network():\n",
        "    ret = {}\n",
        "    \n",
        "    # 300 layer\n",
        "    model_300 = Sequential()\n",
        "    model_300.add(Dense(300, input_dim=784, activation=\"tanh\"))\n",
        "    model_300.add(Dense(100, activation=\"tanh\"))\n",
        "    model_300.add(Dense(10, activation=\"sigmoid\"))\n",
        "    model_300.compile(loss='categorical_crossentropy', optimizer='adam', metrics=['accuracy'])\n",
        "    history = model_300.fit(X_train, y_train_nn,validation_data = (X_test,y_test_nn), epochs=100, batch_size=64)\n",
        "    ret[\"28*28-300-100-10\"] =  max(history.history['val_accuracy'])*100\n",
        "\n",
        "    # 1000 layer\n",
        "    model_1000 = Sequential()\n",
        "    model_1000.add(Dense(1000, input_dim=784, activation=\"tanh\"))\n",
        "    model_1000.add(Dense(150, activation=\"tanh\"))\n",
        "    model_1000.add(Dense(10, activation=\"sigmoid\"))\n",
        "    model_1000.compile(loss='categorical_crossentropy', optimizer='adam', metrics=['accuracy'])\n",
        "    history = model_1000.fit(X_train, y_train_nn,validation_data = (X_test,y_test_nn), epochs=100, batch_size=64)\n",
        "    ret[\"28*28-1000-150-10\"] =  max(history.history['val_accuracy'])*100\n",
        "    return ret"
      ],
      "execution_count": null,
      "outputs": []
    },
    {
      "cell_type": "code",
      "metadata": {
        "id": "qAW00kKMvDzo"
      },
      "source": [
        ""
      ],
      "execution_count": 29,
      "outputs": []
    },
    {
      "cell_type": "code",
      "metadata": {
        "id": "EZSEJpxPYrK6"
      },
      "source": [
        "models = [\"Linear_Classifier_and_Pairwise_Linear_Classifier\", \"Baseline_Nearest_Neighbor_Classifer\", \n",
        "          \"Principal_Component_Analysis_and_Polynomial_Classifier\", \"OneHidden_Layer_Neural_Network\",\n",
        "          \"TwoHidden_Layer_Neural_Network\", \"Lenet_1\"]\n",
        "names, acc = [], []\n",
        "for i in models:\n",
        "    temp = eval(i+\"()\")\n",
        "    if len(temp)>1:\n",
        "      for i in temp:\n",
        "        names.append(i)\n",
        "        acc.append(temp[i])\n",
        "    else:\n",
        "        names.append(\" \".join(i.split(\"_\")))\n",
        "        acc.append(temp[0])\n",
        "df = pd.DataFrame()\n",
        "df[\"Models\"] = names\n",
        "df[\"Accuracies\"] = acc"
      ],
      "execution_count": null,
      "outputs": []
    },
    {
      "cell_type": "code",
      "metadata": {
        "id": "YGt-sR5edT1x"
      },
      "source": [
        "def Lenet_1():\n",
        "    # model\n",
        "    model = Sequential()\n",
        "    model.add(Conv2D(4, kernel_size=5, activation=\"tanh\", input_shape=(28,28,1)))\n",
        "    model.add(AveragePooling2D(pool_size=(2, 2), strides=(2, 2), padding='valid'))\n",
        "    model.add(Conv2D(12, kernel_size=5, activation=\"tanh\"))\n",
        "    model.add(AveragePooling2D(pool_size=(2, 2), strides=(2, 2), padding='valid'))\n",
        "    model.add(Flatten())\n",
        "    model.add(Dense(10, activation=\"sigmoid\"))\n",
        "    # model.summary()\n",
        "\n",
        "    # Compile, train and find accuracy\n",
        "    model.compile(optimizer='adam', loss='categorical_crossentropy', metrics=['accuracy'])\n",
        "    history = model.fit(X_train.reshape(len(X_train), 28, 28, 1), y_train_nn,\n",
        "                        validation_data = (X_test.reshape(len(X_test), 28, 28, 1),y_test_nn), epochs=3, batch_size=64)\n",
        "    return [max(history.history['val_accuracy'])*100]"
      ],
      "execution_count": null,
      "outputs": []
    },
    {
      "cell_type": "code",
      "metadata": {
        "id": "0PGrYN4MoD9j"
      },
      "source": [
        "def Lenet_4():\n",
        "    # Pad the data to get 32*32 input dimensions\n",
        "    X_train_pad = X_train.reshape(len(X_train), 28, 28)\n",
        "    X_test_pad = X_test.reshape(len(X_test), 28, 28)\n",
        "    X_train_pad = np.array([np.pad(i, (2)) for i in X_train_pad])\n",
        "    X_test_pad = np.array([np.pad(i, (2)) for i in X_test_pad])\n",
        "\n",
        "    # model\n",
        "    model = Sequential()\n",
        "    model.add(Conv2D(4, kernel_size=5, activation=\"tanh\", input_shape=(32,32,1)))\n",
        "    model.add(AveragePooling2D(pool_size=(2, 2), strides=(2, 2), padding='valid'))\n",
        "    model.add(Conv2D(16, kernel_size=5, activation=\"tanh\"))\n",
        "    model.add(AveragePooling2D(pool_size=(2, 2), strides=(2, 2), padding='valid'))\n",
        "    model.add(Flatten())\n",
        "    model.add(Dense(120, activation=\"tanh\"))\n",
        "    model.add(Dense(10, activation=\"sigmoid\"))\n",
        "    # model.summary()\n",
        "\n",
        "    # Compile, train and find accuracy\n",
        "    model.compile(optimizer='adam', loss='categorical_crossentropy', metrics=['accuracy'])\n",
        "    history = model.fit(X_train_pad, y_train_nn,\n",
        "                        validation_data = (X_test_pad,y_test_nn), epochs=3, batch_size=64)\n",
        "    return [max(history.history['val_accuracy'])*100]"
      ],
      "execution_count": 16,
      "outputs": []
    },
    {
      "cell_type": "code",
      "metadata": {
        "colab": {
          "base_uri": "https://localhost:8080/"
        },
        "id": "OYwIm79Kw5qm",
        "outputId": "0cffe724-475c-48a5-dbed-db39778c6674"
      },
      "source": [
        "Lenet_4()"
      ],
      "execution_count": 17,
      "outputs": [
        {
          "output_type": "stream",
          "name": "stdout",
          "text": [
            "Epoch 1/3\n",
            "157/157 [==============================] - 18s 112ms/step - loss: 0.0239 - accuracy: 0.0011 - val_loss: 0.0040 - val_accuracy: 0.0000e+00\n",
            "Epoch 2/3\n",
            "157/157 [==============================] - 17s 111ms/step - loss: 0.0239 - accuracy: 0.0000e+00 - val_loss: 0.0040 - val_accuracy: 0.0000e+00\n",
            "Epoch 3/3\n",
            "157/157 [==============================] - 17s 112ms/step - loss: 0.0239 - accuracy: 0.0000e+00 - val_loss: 0.0040 - val_accuracy: 0.0000e+00\n"
          ]
        },
        {
          "output_type": "execute_result",
          "data": {
            "text/plain": [
              "[0.0]"
            ]
          },
          "metadata": {},
          "execution_count": 17
        }
      ]
    },
    {
      "cell_type": "code",
      "metadata": {
        "id": "t-GR9_kIysV_"
      },
      "source": [
        ""
      ],
      "execution_count": null,
      "outputs": []
    }
  ]
}