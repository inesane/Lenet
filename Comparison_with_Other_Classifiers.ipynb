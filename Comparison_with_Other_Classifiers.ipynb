{
  "nbformat": 4,
  "nbformat_minor": 0,
  "metadata": {
    "colab": {
      "name": "Comparison with Other Classifiers.ipynb",
      "provenance": [],
      "collapsed_sections": []
    },
    "kernelspec": {
      "name": "python3",
      "display_name": "Python 3"
    },
    "language_info": {
      "name": "python"
    },
    "accelerator": "TPU"
  },
  "cells": [
    {
      "cell_type": "code",
      "metadata": {
        "colab": {
          "base_uri": "https://localhost:8080/"
        },
        "id": "dMjLix5Tg_Rj",
        "outputId": "e7e87378-717e-4a5c-af18-47f40cacb62b"
      },
      "source": [
        "!pip install python-mnist"
      ],
      "execution_count": 105,
      "outputs": [
        {
          "output_type": "stream",
          "name": "stdout",
          "text": [
            "Requirement already satisfied: python-mnist in /usr/local/lib/python3.7/dist-packages (0.7)\n"
          ]
        }
      ]
    },
    {
      "cell_type": "code",
      "metadata": {
        "id": "eYaOHo8NgYpF"
      },
      "source": [
        "from mnist.loader import MNIST\n",
        "import pandas as pd\n",
        "import numpy as np\n",
        "import keras\n",
        "from keras.models import Sequential\n",
        "from keras.layers import Dense, Conv2D, Flatten, AveragePooling2D"
      ],
      "execution_count": 122,
      "outputs": []
    },
    {
      "cell_type": "code",
      "metadata": {
        "id": "DcCiUXudySe6"
      },
      "source": [
        "def Accuracy(y_true, y_pred):\n",
        "  corr = 0\n",
        "  for num,i in enumerate(y_true):\n",
        "    if i==y_pred[num]:\n",
        "      corr+=1\n",
        "  corr /= len(y_true)\n",
        "  return corr*100"
      ],
      "execution_count": 107,
      "outputs": []
    },
    {
      "cell_type": "code",
      "metadata": {
        "id": "YKVjndy0gJkZ"
      },
      "source": [
        "def loadMNIST():\n",
        "    mndata = MNIST('/content/MNIST')\n",
        "    imagesTest, labelsTest = mndata.load_training()\n",
        "    imagesTrain, labelsTrain = mndata.load_testing()\n",
        "    return imagesTrain, labelsTrain, imagesTest, labelsTest\n",
        "X_train, y_train, X_test, y_test = loadMNIST()\n",
        "X_train = np.array(X_train)\n",
        "X_test = np.array(X_test)"
      ],
      "execution_count": 108,
      "outputs": []
    },
    {
      "cell_type": "code",
      "metadata": {
        "id": "LC_mzLZabClR"
      },
      "source": [
        "y_train_nn = np.array([ [0 for i in range(10)] for i in y_train ])\n",
        "for i in y_train:\n",
        "    y_train_nn[i] = 1\n",
        "y_test_nn = np.array([ [0 for i in range(10)] for i in y_test ])\n",
        "for i in y_test:\n",
        "    y_test_nn[i] = 1"
      ],
      "execution_count": 109,
      "outputs": []
    },
    {
      "cell_type": "code",
      "metadata": {
        "id": "1mvxnN6IgYMj"
      },
      "source": [
        "from sklearn.linear_model import LogisticRegression\n",
        "def Linear_Classifier_and_Pairwise_Linear_Classifier():\n",
        "    model = LogisticRegression(random_state=0, max_iter=1000)\n",
        "    model = model.fit(X_train, y_train)\n",
        "    return [Accuracy(model.predict(X_test), y_test)]"
      ],
      "execution_count": 110,
      "outputs": []
    },
    {
      "cell_type": "code",
      "metadata": {
        "id": "SXeKo6Q6r9XY"
      },
      "source": [
        "from sklearn.neighbors import KNeighborsClassifier\n",
        "def Baseline_Nearest_Neighbor_Classifer():\n",
        "    # k=3 was picked from the paper \n",
        "    # sklearn's defualt is 5\n",
        "    model = KNeighborsClassifier(n_neighbors=3)\n",
        "    model = model.fit(X_train, y_train)\n",
        "    return [Accuracy(model.predict(X_test), y_test)]"
      ],
      "execution_count": 111,
      "outputs": []
    },
    {
      "cell_type": "code",
      "metadata": {
        "id": "RTBHulyH7fma"
      },
      "source": [
        "from sklearn.decomposition import PCA\n",
        "from sklearn.preprocessing import PolynomialFeatures\n",
        "from sklearn.linear_model import LogisticRegression\n",
        "def Principal_Component_Analysis_and_Polynomial_Classifier():\n",
        "    # Convert 28*28 dim to 40\n",
        "    # used to train a 2nd degree polynomial Classifer\n",
        "    pca = PCA(n_components=40).fit(X_train)\n",
        "    poly = PolynomialFeatures(2)\n",
        "    X_train_updated = poly.fit_transform(pca.transform(X_train))\n",
        "    X_test_updated = poly.transform(pca.transform(X_test))\n",
        "    model = LogisticRegression(random_state=0, max_iter=1000)\n",
        "    model = model.fit(X_train_updated, y_train)\n",
        "    return [Accuracy(model.predict(X_test_updated), y_test)]"
      ],
      "execution_count": 112,
      "outputs": []
    },
    {
      "cell_type": "code",
      "metadata": {
        "id": "3C4_mhUr-BSq"
      },
      "source": [
        "def OneHidden_Layer_Neural_Network():\n",
        "    ret = {}\n",
        "    \n",
        "    # 300 layer\n",
        "    model_300 = Sequential()\n",
        "    model_300.add(Dense(300, input_dim=784, activation=\"tanh\"))\n",
        "    model_300.add(Dense(10, activation=\"sigmoid\"))\n",
        "    model_300.compile(loss='categorical_crossentropy', optimizer='adam', metrics=['accuracy'])\n",
        "    history = model_300.fit(X_train, y_train_nn,validation_data = (X_test,y_test_nn), epochs=100, batch_size=64)\n",
        "    ret[\"28*28-300-10\"] =  history.history['val_accuracy'][-1]\n",
        "\n",
        "    # 1000 layer\n",
        "    model_1000 = Sequential()\n",
        "    model_1000.add(Dense(1000, input_dim=784, activation=\"tanh\"))\n",
        "    model_1000.add(Dense(10, activation=\"sigmoid\"))\n",
        "    model_1000.compile(loss='categorical_crossentropy', optimizer='adam', metrics=['accuracy'])\n",
        "    history = model_1000.fit(X_train, y_train_nn,validation_data = (X_test,y_test_nn), epochs=100, batch_size=64)\n",
        "    ret[\"28*28-1000-10\"] =  history.history['val_accuracy'][-1]\n",
        "\n",
        "    return ret"
      ],
      "execution_count": 113,
      "outputs": []
    },
    {
      "cell_type": "code",
      "metadata": {
        "id": "cZQK8IlchFTE"
      },
      "source": [
        "def TwoHidden_Layer_Neural_Network():\n",
        "    ret = {}\n",
        "    \n",
        "    # 300 layer\n",
        "    model_300 = Sequential()\n",
        "    model_300.add(Dense(300, input_dim=784, activation=\"tanh\"))\n",
        "    model_300.add(Dense(100, activation=\"tanh\"))\n",
        "    model_300.add(Dense(10, activation=\"sigmoid\"))\n",
        "    model_300.compile(loss='categorical_crossentropy', optimizer='adam', metrics=['accuracy'])\n",
        "    history = model_300.fit(X_train, y_train_nn,validation_data = (X_test,y_test_nn), epochs=100, batch_size=64)\n",
        "    ret[\"28*28-300-100-10\"] =  max(history.history['val_accuracy'])*100\n",
        "\n",
        "    # 1000 layer\n",
        "    model_1000 = Sequential()\n",
        "    model_1000.add(Dense(1000, input_dim=784, activation=\"tanh\"))\n",
        "    model_1000.add(Dense(150, activation=\"tanh\"))\n",
        "    model_1000.add(Dense(10, activation=\"sigmoid\"))\n",
        "    model_1000.compile(loss='categorical_crossentropy', optimizer='adam', metrics=['accuracy'])\n",
        "    history = model_1000.fit(X_train, y_train_nn,validation_data = (X_test,y_test_nn), epochs=100, batch_size=64)\n",
        "    ret[\"28*28-1000-150-10\"] =  max(history.history['val_accuracy'])*100\n",
        "\n",
        "    return ret"
      ],
      "execution_count": 114,
      "outputs": []
    },
    {
      "cell_type": "code",
      "metadata": {
        "id": "EZSEJpxPYrK6"
      },
      "source": [
        "models = [\"Linear_Classifier_and_Pairwise_Linear_Classifier\", \"Baseline_Nearest_Neighbor_Classifer\", \n",
        "          \"Principal_Component_Analysis_and_Polynomial_Classifier\", \"OneHidden_Layer_Neural_Network\", \"TwoHidden_Layer_Neural_Network\"]\n",
        "names, acc = [], []\n",
        "for i in models:\n",
        "    temp = eval(i+\"()\")\n",
        "    if len(temp)>1:\n",
        "      for i in temp:\n",
        "        names.append(i)\n",
        "        acc.append(temp[i])\n",
        "    else:\n",
        "        names.append(\" \".join(i.split(\"_\")))\n",
        "        acc.append(temp[0])\n",
        "df = pd.DataFrame()\n",
        "df[\"Models\"] = names\n",
        "df[\"Accuracies\"] = acc"
      ],
      "execution_count": null,
      "outputs": []
    },
    {
      "cell_type": "code",
      "metadata": {
        "id": "YGt-sR5edT1x"
      },
      "source": [
        "df"
      ],
      "execution_count": null,
      "outputs": []
    },
    {
      "cell_type": "code",
      "metadata": {
        "id": "0PGrYN4MoD9j"
      },
      "source": [
        "def Lenet_1():\n",
        "    model = Sequential()\n",
        "    model.add(Conv2D(4, kernel_size=5, activation=\"tanh\", input_shape=(28,28,1)))\n",
        "    model.add(AveragePooling2D(pool_size=(2, 2), strides=(1, 1), padding='valid'))\n",
        "    model.add(Conv2D(12, kernel_size=5, activation=\"tanh\"))\n",
        "    model.add(AveragePooling2D(pool_size=(2, 2), strides=(1, 1), padding='valid'))\n",
        "    model.add(Flatten())\n",
        "    model.add(Dense(10, activation=\"sigmoid\"))\n",
        "    model.summary()"
      ],
      "execution_count": 123,
      "outputs": []
    },
    {
      "cell_type": "code",
      "metadata": {
        "colab": {
          "base_uri": "https://localhost:8080/"
        },
        "id": "S4ZYeQ4nr6hD",
        "outputId": "2cae787a-09c2-4392-90f5-755e597149cf"
      },
      "source": [
        "Lenet_1()"
      ],
      "execution_count": 124,
      "outputs": [
        {
          "output_type": "stream",
          "name": "stdout",
          "text": [
            "Model: \"sequential_15\"\n",
            "_________________________________________________________________\n",
            " Layer (type)                Output Shape              Param #   \n",
            "=================================================================\n",
            " conv2d_1 (Conv2D)           (None, 24, 24, 4)         104       \n",
            "                                                                 \n",
            " average_pooling2d (AverageP  (None, 23, 23, 4)        0         \n",
            " ooling2D)                                                       \n",
            "                                                                 \n",
            " conv2d_2 (Conv2D)           (None, 19, 19, 12)        1212      \n",
            "                                                                 \n",
            " average_pooling2d_1 (Averag  (None, 18, 18, 12)       0         \n",
            " ePooling2D)                                                     \n",
            "                                                                 \n",
            " flatten (Flatten)           (None, 3888)              0         \n",
            "                                                                 \n",
            " dense_28 (Dense)            (None, 10)                38890     \n",
            "                                                                 \n",
            "=================================================================\n",
            "Total params: 40,206\n",
            "Trainable params: 40,206\n",
            "Non-trainable params: 0\n",
            "_________________________________________________________________\n"
          ]
        }
      ]
    },
    {
      "cell_type": "code",
      "metadata": {
        "id": "Pn6650lUr7sO"
      },
      "source": [
        ""
      ],
      "execution_count": null,
      "outputs": []
    }
  ]
}