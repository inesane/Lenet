{
 "cells": [
  {
   "cell_type": "code",
   "execution_count": 30,
   "metadata": {
    "colab": {
     "base_uri": "https://localhost:8080/"
    },
    "id": "-khwNOShxlDf",
    "outputId": "db974a28-a3c0-43a7-9b9a-560a5b4ee1dc"
   },
   "outputs": [
    {
     "name": "stdout",
     "output_type": "stream",
     "text": [
      "Requirement already satisfied: python-mnist in /home/ainesh/.local/lib/python3.8/site-packages (0.7)\r\n"
     ]
    }
   ],
   "source": [
    "!pip install python-mnist\n",
    "from mnist.loader import MNIST\n",
    "import pandas as pd\n",
    "import numpy as np\n",
    "from PIL import Image\n",
    "from sklearn.preprocessing import StandardScaler\n",
    "from sklearn.svm import SVC\n",
    "from sklearn.metrics import confusion_matrix\n",
    "from sklearn.model_selection import validation_curve\n",
    "from sklearn.model_selection import KFold\n",
    "from sklearn.model_selection import cross_val_score\n",
    "from sklearn.model_selection import GridSearchCV\n",
    "from sklearn.pipeline import Pipeline"
   ]
  },
  {
   "cell_type": "code",
   "execution_count": 2,
   "metadata": {
    "id": "FGKF7KPsxoUm"
   },
   "outputs": [],
   "source": [
    "def Accuracy(y_true, y_pred):\n",
    "  corr = 0\n",
    "  for num,i in enumerate(y_true):\n",
    "    if i==y_pred[num]:\n",
    "      corr+=1\n",
    "  corr /= len(y_true)\n",
    "  return corr*100"
   ]
  },
  {
   "cell_type": "code",
   "execution_count": 5,
   "metadata": {
    "colab": {
     "base_uri": "https://localhost:8080/",
     "height": 408
    },
    "id": "YfyYFY_ExrM3",
    "outputId": "ca413765-f703-4c3c-c757-84c245f6494e"
   },
   "outputs": [],
   "source": [
    "def loadMNIST():\n",
    "    mndata = MNIST('./MNIST')\n",
    "    imagesTest, labelsTest = mndata.load_training()\n",
    "    imagesTrain, labelsTrain = mndata.load_testing()\n",
    "    return imagesTrain, labelsTrain, imagesTest, labelsTest\n",
    "X_train, y_train, X_test, y_test = loadMNIST()\n",
    "X_train = np.array(X_train)\n",
    "X_test = np.array(X_test)"
   ]
  },
  {
   "cell_type": "code",
   "execution_count": 6,
   "metadata": {
    "id": "fwcCVwsFxsuC"
   },
   "outputs": [],
   "source": [
    "y_train_nn = np.array([ [0 for i in range(10)] for i in y_train ])\n",
    "count = 0\n",
    "for i in y_train:\n",
    "    y_train_nn[count][i] = 1\n",
    "    count+=1\n",
    "y_test_nn = np.array([ [0 for i in range(10)] for i in y_test ])\n",
    "count = 0\n",
    "for i in y_test:\n",
    "    y_test_nn[count][i] = 1\n",
    "    count+=1"
   ]
  },
  {
   "cell_type": "code",
   "execution_count": 20,
   "metadata": {
    "id": "WbYF4hVextVG"
   },
   "outputs": [],
   "source": [
    "def SVM():\n",
    "  steps = [('SVM', SVC(kernel='poly'))]\n",
    "  pipeline = Pipeline(steps) # define Pipeline object\n",
    "  parameters = {'SVM__C':[0.001, 0.1, 100, 10e5], 'SVM__gamma':[10,1,0.1,0.01]}\n",
    "\n",
    "  model = GridSearchCV(pipeline, param_grid=parameters, cv=5)\n",
    "  model = model.fit(np.array(X_train), np.array(y_train))\n",
    "\n",
    "  return [Accuracy(model.predict(np.array(X_test)), np.array(y_test))]"
   ]
  },
  {
   "cell_type": "code",
   "execution_count": 21,
   "metadata": {
    "scrolled": false
   },
   "outputs": [],
   "source": [
    "models = [\"SVM\"]\n",
    "names, acc = [], []\n",
    "for i in models:\n",
    "    temp = eval(i+\"()\")\n",
    "    if len(temp)>1:\n",
    "      for i in temp:\n",
    "        names.append(i)\n",
    "        acc.append(temp[i])\n",
    "    else:\n",
    "        names.append(\" \".join(i.split(\"_\")))\n",
    "        acc.append(temp[0])\n",
    "df = pd.DataFrame()\n",
    "df[\"Models\"] = names\n",
    "df[\"Accuracies\"] = acc"
   ]
  },
  {
   "cell_type": "code",
   "execution_count": 22,
   "metadata": {},
   "outputs": [
    {
     "data": {
      "text/html": [
       "<div>\n",
       "<style scoped>\n",
       "    .dataframe tbody tr th:only-of-type {\n",
       "        vertical-align: middle;\n",
       "    }\n",
       "\n",
       "    .dataframe tbody tr th {\n",
       "        vertical-align: top;\n",
       "    }\n",
       "\n",
       "    .dataframe thead th {\n",
       "        text-align: right;\n",
       "    }\n",
       "</style>\n",
       "<table border=\"1\" class=\"dataframe\">\n",
       "  <thead>\n",
       "    <tr style=\"text-align: right;\">\n",
       "      <th></th>\n",
       "      <th>Models</th>\n",
       "      <th>Accuracies</th>\n",
       "    </tr>\n",
       "  </thead>\n",
       "  <tbody>\n",
       "    <tr>\n",
       "      <th>0</th>\n",
       "      <td>SVM</td>\n",
       "      <td>95.078333</td>\n",
       "    </tr>\n",
       "  </tbody>\n",
       "</table>\n",
       "</div>"
      ],
      "text/plain": [
       "  Models  Accuracies\n",
       "0    SVM   95.078333"
      ]
     },
     "execution_count": 22,
     "metadata": {},
     "output_type": "execute_result"
    }
   ],
   "source": [
    "df"
   ]
  },
  {
   "cell_type": "code",
   "execution_count": 32,
   "metadata": {},
   "outputs": [],
   "source": [
    "def Euc_distance(x,y):\n",
    "    dist = np.linalg.norm(x-y)\n",
    "    return dist\n",
    "def Man_distance(x,y):\n",
    "    dist = np.linalg.norm(x-y, ord=1)\n",
    "    return dist\n",
    "def Cos_distance(x,y):\n",
    "    dist = np.dot(x,y)/np.linalg.norm(x)/np.linalg.norm(y)\n",
    "    return dist\n",
    "\n",
    "def KNN_tangent(train_images, train_labels, test_images, test_labels):\n",
    "    train_size = len(train_labels)\n",
    "    test_size = len(test_labels)\n",
    "    count = 0\n",
    "    learning_rate = 6e-7\n",
    "    training_epochs = 50\n",
    "    for i in range(test_size):\n",
    "        # Unit vector for each test point\n",
    "        #Tr=np.zeros((784,3))\n",
    "        pattern = test_images[i,...].reshape((28,28))\n",
    "        pattern_x = np.hstack((np.zeros((28,1)),pattern[...,0:27]))\n",
    "        pattern_y = np.vstack((pattern[1:,...],np.zeros((1,28))))\n",
    "        #Rotate the image by 3 degrees\n",
    "        img = pattern.astype(np.uint8)\n",
    "        img = Image.fromarray(img)\n",
    "        pattern_r = np.array(img.rotate(3))\n",
    "        Tr = np.hstack((pattern_x.reshape((784,1))-test_images[i,...].reshape((784,1)), \\\n",
    "                              pattern_y.reshape((784,1))-test_images[i,...].reshape((784,1)), \\\n",
    "                              pattern_r.reshape((784,1))-test_images[i,...].reshape((784,1))))\n",
    "        # Tangent distance\n",
    "        distances = np.zeros(train_size)\n",
    "        for j in range(train_size):\n",
    "            alpha = np.zeros((3,1))\n",
    "            # Gradient descent\n",
    "            for ite in range(training_epochs):\n",
    "                alpha = alpha - learning_rate*np.matmul(Tr.T,(test_images[i,...].reshape((784,1))+np.matmul(Tr,alpha)-train_images[j,...].reshape((784,1))))\n",
    "            distances[j] = Euc_distance(test_images[i,...].T+np.matmul(Tr,alpha), train_images[j,...].T)\n",
    "        index = np.argsort(distances)\n",
    "        predict = train_labels[index[0]]\n",
    "        if predict == test_labels[i]:\n",
    "            count = count + 1\n",
    "    acc = count / test_size\n",
    "    return (acc*100)"
   ]
  },
  {
   "cell_type": "code",
   "execution_count": null,
   "metadata": {},
   "outputs": [],
   "source": [
    "print(KNN_tangent(X_train, y_train, X_test, y_test))"
   ]
  },
  {
   "cell_type": "code",
   "execution_count": null,
   "metadata": {},
   "outputs": [],
   "source": []
  }
 ],
 "metadata": {
  "colab": {
   "name": "Untitled4.ipynb",
   "provenance": []
  },
  "kernelspec": {
   "display_name": "Python 3",
   "language": "python",
   "name": "python3"
  },
  "language_info": {
   "codemirror_mode": {
    "name": "ipython",
    "version": 3
   },
   "file_extension": ".py",
   "mimetype": "text/x-python",
   "name": "python",
   "nbconvert_exporter": "python",
   "pygments_lexer": "ipython3",
   "version": "3.8.10"
  }
 },
 "nbformat": 4,
 "nbformat_minor": 1
}
