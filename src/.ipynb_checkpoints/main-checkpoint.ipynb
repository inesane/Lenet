{
 "cells": [
  {
   "cell_type": "markdown",
   "id": "damaged-southwest",
   "metadata": {},
   "source": [
    "http://vision.stanford.edu/cs598_spring07/papers/Lecun98.pdf"
   ]
  },
  {
   "cell_type": "code",
   "execution_count": 1,
   "id": "listed-diana",
   "metadata": {},
   "outputs": [],
   "source": [
    "import cv2\n",
    "from matplotlib import pyplot as plt\n",
    "import numpy as np\n",
    "import math\n",
    "import time\n",
    "import cmath\n",
    "import sys\n",
    "import random\n",
    "from tqdm import tqdm\n",
    "from scipy import signal\n",
    "from mnist.loader import MNIST"
   ]
  },
  {
   "cell_type": "code",
   "execution_count": 112,
   "id": "successful-treasurer",
   "metadata": {},
   "outputs": [],
   "source": [
    "def loadMNIST():\n",
    "    mndata = MNIST('../MNIST')\n",
    "    imagesTrain, labelsTrain = mndata.load_training()\n",
    "    imagesTest, labelsTest = mndata.load_testing()\n",
    "    return imagesTrain, labelsTrain, imagesTest, labelsTest"
   ]
  },
  {
   "cell_type": "code",
   "execution_count": 113,
   "id": "correct-benefit",
   "metadata": {},
   "outputs": [],
   "source": [
    "def convolve(im,kernel,bias=0):\n",
    "    kernel_size = np.array(np.array(kernel).shape)\n",
    "    im_size = np.array(np.array(im).shape)\n",
    "    final_dim = im_size - kernel_size + np.array([1,1])\n",
    "    final_im = np.zeros(tuple(final_dim))\n",
    "    for i in range(final_dim[0]):\n",
    "        for j in range(final_dim[1]):\n",
    "            final_im[i][j]= np.sum(np.multiply(im[i:i+kernel_size[0],j:j+kernel_size[1]],kernel))\n",
    "    final_im += bias\n",
    "    return final_im"
   ]
  },
  {
   "cell_type": "code",
   "execution_count": 114,
   "id": "attempted-utility",
   "metadata": {},
   "outputs": [],
   "source": [
    "def avgPool(im, k):\n",
    "    ret = np.zeros(((len(im)//2), len(im[0])//2))\n",
    "    for i in range(len(ret)):\n",
    "        for j in range(len(ret[0])):\n",
    "            ret[i][j] = np.mean(im[i*2:i*2+k, j*2:j*2+k])\n",
    "    return ret"
   ]
  },
  {
   "cell_type": "code",
   "execution_count": 115,
   "id": "finished-omega",
   "metadata": {},
   "outputs": [],
   "source": [
    "def softmax(a):\n",
    "    expSum = np.sum(np.exp(a))\n",
    "    return np.exp(a)/expSum"
   ]
  },
  {
   "cell_type": "code",
   "execution_count": 116,
   "id": "defensive-grenada",
   "metadata": {},
   "outputs": [],
   "source": [
    "def reshape(x):\n",
    "    return np.uint8(np.reshape(x, (int(math.sqrt(len(x))), int(math.sqrt(len(x))))))"
   ]
  },
  {
   "cell_type": "code",
   "execution_count": 117,
   "id": "cef19200",
   "metadata": {},
   "outputs": [],
   "source": [
    "def normalize(im):\n",
    "    return np.where(im==0,-0.1,1.175)"
   ]
  },
  {
   "cell_type": "code",
   "execution_count": 118,
   "id": "developing-fraud",
   "metadata": {},
   "outputs": [],
   "source": [
    "def preprocess(im):\n",
    "    return normalize(np.pad(im, (2, 2)))"
   ]
  },
  {
   "cell_type": "code",
   "execution_count": 119,
   "id": "heated-albany",
   "metadata": {},
   "outputs": [],
   "source": [
    "xTrain, yTrain, xTest, yTest = loadMNIST()"
   ]
  },
  {
   "cell_type": "code",
   "execution_count": 120,
   "id": "active-reggae",
   "metadata": {},
   "outputs": [],
   "source": [
    "for i in range(len(xTrain)):\n",
    "    xTrain[i] = preprocess(reshape(xTrain[i]))\n",
    "for i in range(len(xTest)):\n",
    "    xTest[i] = preprocess(reshape(xTest[i]))"
   ]
  },
  {
   "cell_type": "markdown",
   "id": "driven-kansas",
   "metadata": {},
   "source": [
    "## Parameters\n",
    "https://cdn.analyticsvidhya.com/wp-content/uploads/2021/03/Screenshot-from-2021-03-18-12-56-51.png"
   ]
  },
  {
   "cell_type": "code",
   "execution_count": 121,
   "id": "personalized-screw",
   "metadata": {},
   "outputs": [],
   "source": [
    "S2C3 = { 0: [0, 1, 2], \n",
    "         1: [1, 2, 3], \n",
    "         2: [2, 3, 4], \n",
    "         3: [3, 4, 5], \n",
    "         4: [0, 4, 5], \n",
    "         5: [0, 1, 5], \n",
    "         6: [0, 1, 2, 3], \n",
    "         7: [1, 2, 3, 4], \n",
    "         8: [2, 3, 4, 5], \n",
    "         9: [0, 3, 4, 5], \n",
    "        10: [0, 1, 4, 5], \n",
    "        11: [0, 1, 2, 5], \n",
    "        12: [0, 1, 3, 4], \n",
    "        13: [1, 2, 4, 5], \n",
    "        14: [0, 2, 3, 5], \n",
    "        15: [0, 1, 2, 3, 4, 5]}\n",
    "A = 1.7159\n",
    "S = 2 / 3       \n",
    "\n",
    "conv = [((np.random.rand(6, 5, 5))-0.5)*4.8, (((np.random.rand(6, 16, 5, 5))-0.5)*4.8)/6, (((np.random.rand(16, 120, 5, 5))-0.5)*4.8)/16]\n",
    "bConv = [((np.random.rand(6))-0.5)*4.8, (((np.random.rand(16))-0.5)*4.8)/6, (((np.random.rand(120))-0.5)*4.8)/16]\n",
    "w1 = ((np.random.rand(120, 84)-0.5)*4.8)/120\n",
    "b1 = ((np.random.rand(84)-0.5)*4.8)/120\n",
    "w2 = ((np.random.rand(84, 10)-0.5)*4.8)/84\n",
    "b2 = ((np.random.rand(10)-0.5)*4.8)/84\n",
    "\n",
    "ret1 = []\n",
    "ret2 = []\n",
    "ret3 = []\n",
    "ret4 = []\n",
    "ret5 = []"
   ]
  },
  {
   "cell_type": "code",
   "execution_count": 122,
   "id": "abroad-pontiac",
   "metadata": {},
   "outputs": [],
   "source": [
    "def forward(im):\n",
    "    global ret1\n",
    "    global ret2\n",
    "    global ret3\n",
    "    global ret4\n",
    "    global ret5\n",
    "\n",
    "    # Convolution 1\n",
    "    ret1 = []\n",
    "    for i in range(len(conv[0])):\n",
    "        ret1.append(A*np.tanh(S * convolve(im, conv[0][i], bConv[0][i])))\n",
    "        \n",
    "    # Average pooling\n",
    "    for i in range(len(ret1)):\n",
    "        ret1[i] = avgPool(ret1[i], 2)\n",
    "        \n",
    "    # Convolution 2\n",
    "    ret2 = []\n",
    "    for i in range(len(conv[1][0])):\n",
    "        tmp = np.zeros((len(ret1[0]) - 2*(len(conv[1][0][i])//2), len(ret1[0][0]) - 2*(len(conv[1][0][i])//2)))\n",
    "        for j in S2C3[i]:\n",
    "            tmp += convolve(ret1[j], conv[1][j][i])\n",
    "        tmp +=  bConv[1][i]\n",
    "        ret2.append(A*np.tanh(S * tmp))\n",
    "        \n",
    "    # Average pooling\n",
    "    for i in range(len(ret2)):\n",
    "        ret2[i] = avgPool(ret2[i], 2)\n",
    "        \n",
    "    # Convolution 3\n",
    "    ret3 = []\n",
    "    for i in range(len(conv[2][0])):\n",
    "        tmp = np.zeros((len(ret2[0]) - 2*(len(conv[2][0][i])//2), len(ret2[0][0]) - 2*(len(conv[2][0][i])//2)))\n",
    "        for j in range(len(conv[2])):\n",
    "            tmp += convolve(ret2[j], conv[2][j][i])\n",
    "        tmp +=  bConv[2][i]\n",
    "        ret3.append(A*np.tanh(S * tmp))\n",
    "    \n",
    "    # Fully connected 1\n",
    "    ret4 = []\n",
    "    for i in range(len(w1[0])):\n",
    "        tmp = 0\n",
    "        for j in range(len(w1)):\n",
    "            tmp += w1[j][i]*ret3[j]\n",
    "        tmp += b1[i]\n",
    "        ret4.append(A*np.tanh(S * tmp))\n",
    "\n",
    "    # Fully connected 2\n",
    "    ret5 = []\n",
    "    for i in range(len(w2[0])):\n",
    "        tmp = 0\n",
    "        for j in range(len(w2)):\n",
    "            tmp += w2[j][i]*ret4[j]\n",
    "        tmp += b2[i]\n",
    "        ret5.append(tmp)\n",
    "    \n",
    "    # Softmax activation\n",
    "    expSum = np.sum(np.exp(ret5))\n",
    "    ret5 = np.exp(ret5)/expSum\n",
    "    return ret5"
   ]
  },
  {
   "cell_type": "markdown",
   "id": "42adc9a6",
   "metadata": {},
   "source": [
    "# BackProp"
   ]
  },
  {
   "cell_type": "code",
   "execution_count": 123,
   "id": "offensive-midnight",
   "metadata": {},
   "outputs": [],
   "source": [
    "def backFlatLast(W, b, aL_1, aL, y):\n",
    "    dW = np.zeros((len(W), len(W[0])))\n",
    "    db = np.zeros(len(aL))\n",
    "    delta = np.zeros((len(aL_1)))\n",
    "    expAll = np.exp(aL_1)\n",
    "    expSum = np.sum(expAll)\n",
    "    \n",
    "    for i in range(len(W)):\n",
    "        for j in range(len(W[0])):\n",
    "            dW[i][j] = (aL[j] - y[j]) * aL_1[i] * ((expSum - expAll[i]) / (expSum ** 2)) * expAll[i]\n",
    "            delta[i] += W[i][j] * (aL[j] - y[j]) * (expSum - expAll[i]) / (expSum ** 2) * expAll[i]\n",
    "    \n",
    "    for i in range(len(aL)):\n",
    "        db[i] = (aL[i] - y[i]) * (expSum - expAll[i]) / (expSum ** 2) * expAll[i]\n",
    "            \n",
    "    return dW, db, delta\n",
    "\n",
    "def backFlat(W, b, aL_1, aL, d):\n",
    "    dW = np.zeros(np.array(W).shape)\n",
    "    db = np.zeros((len(aL)))\n",
    "    delta = np.zeros((len(aL_1)))\n",
    "\n",
    "    for i in range(len(W)):\n",
    "        for j in range(len(W[0])):\n",
    "            dW[i][j] = d[j] * aL_1[i]\n",
    "            delta[i] += W[i][j] * d[j] * (1 - (np.tanh(S * aL_1[i]) ** 2)) * S * A\n",
    "    \n",
    "    for i in range(len(aL)):\n",
    "        db[i] = d[i]\n",
    "    \n",
    "    return dW, db, delta\n",
    "\n",
    "def backConvolve(W, b, aL_1, aL, d, some = False):\n",
    "    dW = np.zeros(np.array(W).shape)\n",
    "    db = np.zeros((len(aL)))\n",
    "    delta = np.zeros((len(aL_1), len(aL_1[0]), len(aL_1[0][0])))\n",
    "\n",
    "    for i in range(len(W)):\n",
    "        for j in range(len(W[0])):\n",
    "            if some == False:\n",
    "                dW[i][j] = convolve(np.pad(np.rot90(d[j], 2), (4, )), aL_1[i])\n",
    "                delta[i] += convolve(np.pad(d[j], (4, )), np.rot90(W[i][j], 2)) * (1 - (np.tanh(S * aL_1[i]) ** 2)) * S * A\n",
    "            else:\n",
    "                if i in S2C3[j]:\n",
    "                    dW[i][j] = convolve(np.pad(np.rot90(d[j], 2), (4, )), aL_1[i])\n",
    "                    delta[i] += convolve(np.pad(d[j], (4, )), np.rot90(W[i][j], 2)) * (1 - (np.tanh(S * aL_1[i]) ** 2)) * S * A\n",
    "    \n",
    "    for i in range(len(aL)):\n",
    "        db[i] = np.sum(d[i])\n",
    "    \n",
    "    return dW, db, delta"
   ]
  },
  {
   "cell_type": "code",
   "execution_count": 124,
   "id": "circular-illness",
   "metadata": {},
   "outputs": [],
   "source": [
    "def unPool(im):\n",
    "    ret = np.zeros((len(im), len(im[0])*2, len(im[0][0])*2))\n",
    "    for i in range(len(im)):\n",
    "        for j in range(len(im[0])):\n",
    "            for k in range(len(im[0][0])):\n",
    "                ret[i][j    ][k    ] = im[i][j][k] / 4\n",
    "                ret[i][j    ][k + 1] = im[i][j][k] / 4\n",
    "                ret[i][j + 1][k    ] = im[i][j][k] / 4\n",
    "                ret[i][j + 1][k + 1] = im[i][j][k] / 4\n",
    "    return ret"
   ]
  },
  {
   "cell_type": "code",
   "execution_count": 125,
   "id": "sound-davis",
   "metadata": {},
   "outputs": [
    {
     "name": "stderr",
     "output_type": "stream",
     "text": [
      " 19%|█▊        | 3701/20000 [58:23<4:40:53,  1.03s/it]"
     ]
    }
   ],
   "source": [
    "for i in tqdm(range(len(xTrain[:20000]))):\n",
    "    alpha = 0.01\n",
    "    forward(xTrain[i])\n",
    "    expected = np.zeros((10))\n",
    "    expected[yTrain[i]] = 1\n",
    "    dW, db, delta = backFlatLast(w2, b2, ret4, ret5, expected)\n",
    "    w2 = w2 - (alpha * dW)\n",
    "    b2 = b2 - (alpha * db)\n",
    "    \n",
    "    dW, db, delta2 = backFlat(w1, b1, ret3, ret4, delta)\n",
    "    w1 = w1 - (alpha * dW)\n",
    "    b1 = b1 - (alpha * db)\n",
    "    \n",
    "    delta2 = [[[i]] for i in delta2]\n",
    "    dW, db, delta3 = backConvolve(conv[2], bConv[2], ret2, ret3, delta2)\n",
    "    conv[2] = conv[2] - (alpha * dW)\n",
    "    bConv[2] = bConv[2] - (alpha * db)\n",
    "    \n",
    "    delta3 = unPool(delta3)\n",
    "    dW, db, delta4 = backConvolve(conv[1], bConv[1], ret1, ret2, delta3, True)\n",
    "    conv[1] = conv[1] - (alpha * dW)\n",
    "    bConv[1] = bConv[1] - (alpha * db)\n",
    "    \n",
    "    delta4 = unPool(delta4)\n",
    "    dW, db, delta5 = backConvolve([conv[0]], bConv[0], [xTrain[i]], ret1, delta4)\n",
    "    conv[0] = conv[0] - (alpha * dW)\n",
    "    bConv[0] = bConv[0] - (alpha * db)\n",
    "    conv[0] = conv[0][0]\n"
   ]
  },
  {
   "cell_type": "code",
   "execution_count": null,
   "id": "satisfied-pavilion",
   "metadata": {},
   "outputs": [],
   "source": [
    "def Accuracy(y_true, y_pred):\n",
    "    corr = 0\n",
    "    for num, i in enumerate(y_true):\n",
    "        if i == y_pred[num]:\n",
    "            corr += 1\n",
    "    corr /= len(y_true)\n",
    "\n",
    "    return corr * 100\n",
    "\n",
    "y_pred = np.zeros((len(xTest)))\n",
    "for i in tqdm(range(len(xTest))):\n",
    "    m = forward(xTest[i])\n",
    "    y_pred[i] = list(m).index(max(m))\n",
    "\n",
    "Accuracy(yTest, y_pred)"
   ]
  },
  {
   "cell_type": "code",
   "execution_count": null,
   "id": "classical-gardening",
   "metadata": {},
   "outputs": [
    {
     "name": "stdout",
     "output_type": "stream",
     "text": [
      "dict_keys(['S2C3', 'A', 'S', 'ret1', 'ret2', 'ret3', 'ret4', 'ret5', 'conv', 'bConv', 'w1', 'b1', 'w2', 'b2'])\n"
     ]
    }
   ],
   "source": [
    "import json\n",
    "\n",
    "def make_list(nparr):\n",
    "    for i in range(len(nparr)):\n",
    "        nparr[i] = nparr[i].tolist()\n",
    "    return nparr\n",
    "\n",
    "to_dump = {}\n",
    "to_dump['S2C3'] = S2C3\n",
    "to_dump['A'] = A\n",
    "to_dump['S'] = S\n",
    "to_dump['ret1'] = np.array(ret1).tolist()\n",
    "to_dump['ret2'] = np.array(ret2).tolist()\n",
    "to_dump['ret3'] = np.array(ret3).tolist()\n",
    "to_dump['ret4'] = np.array(ret4).tolist()\n",
    "to_dump['ret5'] = np.array(ret5).tolist()\n",
    "to_dump['conv'] = make_list(conv)\n",
    "to_dump['bConv'] = make_list(bConv)\n",
    "to_dump['w1'] = np.array(w1).tolist()\n",
    "to_dump['b1'] = np.array(b1).tolist()\n",
    "to_dump['w2'] = np.array(w2).tolist()\n",
    "to_dump['b2'] = np.array(b2).tolist()\n",
    "\n",
    "print(to_dump.keys())\n",
    "with open(\"./model_parameters.json\",\"w\") as f:\n",
    "    json.dump(to_dump,f)"
   ]
  }
 ],
 "metadata": {
  "kernelspec": {
   "display_name": "Python 3",
   "language": "python",
   "name": "python3"
  },
  "language_info": {
   "codemirror_mode": {
    "name": "ipython",
    "version": 3
   },
   "file_extension": ".py",
   "mimetype": "text/x-python",
   "name": "python",
   "nbconvert_exporter": "python",
   "pygments_lexer": "ipython3",
   "version": "3.8.10"
  }
 },
 "nbformat": 4,
 "nbformat_minor": 5
}
