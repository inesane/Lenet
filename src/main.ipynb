{
 "cells": [
  {
   "cell_type": "markdown",
   "id": "damaged-southwest",
   "metadata": {},
   "source": [
    "http://vision.stanford.edu/cs598_spring07/papers/Lecun98.pdf"
   ]
  },
  {
   "cell_type": "code",
   "execution_count": 1,
   "id": "listed-diana",
   "metadata": {},
   "outputs": [],
   "source": [
    "import cv2\n",
    "from matplotlib import pyplot as plt\n",
    "import numpy as np\n",
    "import math\n",
    "import time\n",
    "import cmath\n",
    "import sys\n",
    "import random\n",
    "from mnist.loader import MNIST"
   ]
  },
  {
   "cell_type": "code",
   "execution_count": 2,
   "id": "successful-treasurer",
   "metadata": {},
   "outputs": [],
   "source": [
    "def loadMNIST():\n",
    "    mndata = MNIST('../MNIST')\n",
    "    imagesTest, labelsTest = mndata.load_training()\n",
    "    imagesTrain, labelsTrain = mndata.load_testing()\n",
    "    return imagesTrain, labelsTrain, imagesTest, labelsTest"
   ]
  },
  {
   "cell_type": "code",
   "execution_count": 3,
   "id": "correct-benefit",
   "metadata": {},
   "outputs": [],
   "source": [
    "def convolve(im, kernel, bias=0):\n",
    "    kernelSize = len(kernel)\n",
    "    size = im.shape\n",
    "    ret = (np.zeros((size[0] - 2*(kernelSize//2), size[1] - 2*(kernelSize//2))))\n",
    "    for i in range(kernelSize//2, size[0] - kernelSize//2):\n",
    "        for j in range(kernelSize//2, size[1] - kernelSize//2):\n",
    "            ret[i - kernelSize//2][j - kernelSize//2] = np.sum(np.multiply(kernel,im[i-kernelSize//2:i-kernelSize//2+kernelSize,j-kernelSize//2:j-kernelSize//2+kernelSize]))\n",
    "    ret = ret + bias\n",
    "    return ret"
   ]
  },
  {
   "cell_type": "code",
   "execution_count": 4,
   "id": "attempted-utility",
   "metadata": {},
   "outputs": [],
   "source": [
    "def avgPool(im, k):\n",
    "    ret = np.zeros(((len(im)//2), len(im[0])//2))\n",
    "    for i in range(len(ret)):\n",
    "        for j in range(len(ret[0])):\n",
    "            ret[i][j] = np.mean(im[i*2:i*2+k, j*2:j*2+k])\n",
    "    return ret"
   ]
  },
  {
   "cell_type": "code",
   "execution_count": 5,
   "id": "defensive-grenada",
   "metadata": {},
   "outputs": [],
   "source": [
    "def reshape(x):\n",
    "    return np.uint8(np.reshape(x, (int(math.sqrt(len(x))), int(math.sqrt(len(x))))))"
   ]
  },
  {
   "cell_type": "code",
   "execution_count": 6,
   "id": "cef19200",
   "metadata": {},
   "outputs": [],
   "source": [
    "def normalize(im):\n",
    "    return np.where(im==0,-0.1,1.175)"
   ]
  },
  {
   "cell_type": "code",
   "execution_count": 7,
   "id": "developing-fraud",
   "metadata": {},
   "outputs": [],
   "source": [
    "def preprocess(im):\n",
    "    return normalize(np.pad(im, (2, 2)))"
   ]
  },
  {
   "cell_type": "code",
   "execution_count": 8,
   "id": "heated-albany",
   "metadata": {},
   "outputs": [],
   "source": [
    "xTrain, yTrain, xTest, yTest = loadMNIST()"
   ]
  },
  {
   "cell_type": "code",
   "execution_count": 9,
   "id": "active-reggae",
   "metadata": {},
   "outputs": [],
   "source": [
    "for i in range(len(xTrain)):\n",
    "    xTrain[i] = preprocess(reshape(xTrain[i]))\n",
    "for i in range(len(xTest)):\n",
    "    xTest[i] = preprocess(reshape(xTest[i]))"
   ]
  },
  {
   "cell_type": "markdown",
   "id": "driven-kansas",
   "metadata": {},
   "source": [
    "## Parameters\n",
    "https://cdn.analyticsvidhya.com/wp-content/uploads/2021/03/Screenshot-from-2021-03-18-12-56-51.png"
   ]
  },
  {
   "cell_type": "code",
   "execution_count": 24,
   "id": "personalized-screw",
   "metadata": {},
   "outputs": [],
   "source": [
    "S2C3 = { 0: [0, 1, 2], \n",
    "         1: [1, 2, 3], \n",
    "         2: [2, 3, 4], \n",
    "         3: [3, 4, 5], \n",
    "         4: [0, 4, 5], \n",
    "         5: [0, 1, 5], \n",
    "         6: [0, 1, 2, 3], \n",
    "         7: [1, 2, 3, 4], \n",
    "         8: [2, 3, 4, 5], \n",
    "         9: [0, 3, 4, 5], \n",
    "        10: [0, 1, 4, 5], \n",
    "        11: [0, 1, 2, 5], \n",
    "        12: [0, 1, 3, 4], \n",
    "        13: [1, 2, 4, 5], \n",
    "        14: [0, 2, 3, 5], \n",
    "        15: [0, 1, 2, 3, 4, 5]}\n",
    "conv = [(np.random.rand(6, 5, 5)), (np.random.rand(6, 16, 5, 5)), (np.random.rand(16, 120, 5, 5))]\n",
    "bConv = [(np.random.rand(6)), (np.random.rand(16)), (np.random.rand(120))]\n",
    "w1 = np.random.rand(120, 84)\n",
    "b1 = np.random.rand(84)\n",
    "w2 = np.random.rand(84, 10)\n",
    "b2 = np.random.rand(10)"
   ]
  },
  {
   "cell_type": "code",
   "execution_count": 27,
   "id": "abroad-pontiac",
   "metadata": {},
   "outputs": [],
   "source": [
    "def forward(im):\n",
    "    A = 1.7159\n",
    "    # Convolution 1\n",
    "    ret1 = []\n",
    "    for i in range(len(conv[0])):\n",
    "        ret1.append(A*np.tanh(2*convolve(im, conv[0][i], bConv[0][i])/3))\n",
    "        \n",
    "    # Average pooling\n",
    "    for i in range(len(ret1)):\n",
    "        ret1[i] = avgPool(ret1[i], 2)\n",
    "        \n",
    "    # Convolution 2\n",
    "    ret2 = []\n",
    "    for i in range(len(conv[1][0])):\n",
    "        tmp = np.zeros((len(ret1[0]) - 2*(len(conv[1][0][i])//2), len(ret1[0][0]) - 2*(len(conv[1][0][i])//2)))\n",
    "        for j in S2C3[i]:\n",
    "            tmp += convolve(ret1[j], conv[1][j][i])\n",
    "        tmp +=  bConv[1][i]\n",
    "        ret2.append(A*np.tanh(2*tmp/3))\n",
    "        \n",
    "    # Average pooling\n",
    "    for i in range(len(ret2)):\n",
    "        ret2[i] = avgPool(ret2[i], 2)\n",
    "        \n",
    "    # Convolution 3\n",
    "    ret3 = []\n",
    "    for i in range(len(conv[2][0])):\n",
    "        tmp = np.zeros((len(ret2[0]) - 2*(len(conv[2][0][i])//2), len(ret2[0][0]) - 2*(len(conv[2][0][i])//2)))\n",
    "        for j in range(len(conv[2])):\n",
    "            tmp += convolve(ret2[j], conv[2][j][i])\n",
    "        tmp +=  bConv[2][i]\n",
    "        ret3.append(A*np.tanh(2*tmp/3))\n",
    "    \n",
    "    # Fully connected 1\n",
    "    ret4 = []\n",
    "    for i in range(len(w1[0])):\n",
    "        tmp = 0\n",
    "        for j in range(len(w1)):\n",
    "            tmp += w1[j][i]*ret3[j]\n",
    "        tmp += b1[i]\n",
    "        ret4.append(A*np.tanh(2*tmp/3))\n",
    "\n",
    "    # Fully connected 2\n",
    "    ret5 = []\n",
    "    for i in range(len(w2[0])):\n",
    "        tmp = 0\n",
    "        for j in range(len(w2)):\n",
    "            tmp += w2[j][i]*ret4[j]\n",
    "        tmp += b2[i]\n",
    "        ret5.append(tmp)\n",
    "    \n",
    "    # Softmax activation\n",
    "    expSum = np.sum(np.exp(ret5))\n",
    "    ret5 = np.exp(ret5)/expSum\n",
    "    \n",
    "    return ret5"
   ]
  },
  {
   "cell_type": "code",
   "execution_count": 29,
   "id": "israeli-street",
   "metadata": {},
   "outputs": [
    {
     "data": {
      "text/plain": [
       "array([[[1.08888025e-05]],\n",
       "\n",
       "       [[1.52597485e-05]],\n",
       "\n",
       "       [[2.80178639e-03]],\n",
       "\n",
       "       [[2.02280316e-01]],\n",
       "\n",
       "       [[5.12290340e-01]],\n",
       "\n",
       "       [[2.63636961e-05]],\n",
       "\n",
       "       [[1.48423712e-04]],\n",
       "\n",
       "       [[1.36188144e-03]],\n",
       "\n",
       "       [[2.15309262e-03]],\n",
       "\n",
       "       [[2.78911648e-01]]])"
      ]
     },
     "execution_count": 29,
     "metadata": {},
     "output_type": "execute_result"
    }
   ],
   "source": [
    "forward(xTrain[0])"
   ]
  },
  {
   "cell_type": "markdown",
   "id": "42adc9a6",
   "metadata": {},
   "source": [
    "# BackProp"
   ]
  },
  {
   "cell_type": "code",
   "execution_count": null,
   "id": "offensive-midnight",
   "metadata": {},
   "outputs": [],
   "source": []
  }
 ],
 "metadata": {
  "kernelspec": {
   "display_name": "Python 3",
   "language": "python",
   "name": "python3"
  },
  "language_info": {
   "codemirror_mode": {
    "name": "ipython",
    "version": 3
   },
   "file_extension": ".py",
   "mimetype": "text/x-python",
   "name": "python",
   "nbconvert_exporter": "python",
   "pygments_lexer": "ipython3",
   "version": "3.6.9"
  }
 },
 "nbformat": 4,
 "nbformat_minor": 5
}
