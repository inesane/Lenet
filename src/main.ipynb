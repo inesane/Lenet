{
 "cells": [
  {
   "cell_type": "markdown",
   "id": "rural-wagner",
   "metadata": {},
   "source": [
    "http://vision.stanford.edu/cs598_spring07/papers/Lecun98.pdf"
   ]
  },
  {
   "cell_type": "code",
   "execution_count": 11,
   "id": "freelance-neighbor",
   "metadata": {},
   "outputs": [],
   "source": [
    "import cv2\n",
    "from matplotlib import pyplot as plt\n",
    "import numpy as np\n",
    "import math\n",
    "import time\n",
    "import cmath\n",
    "import sys\n",
    "import random\n",
    "from mnist import MNIST"
   ]
  },
  {
   "cell_type": "code",
   "execution_count": 12,
   "id": "necessary-agenda",
   "metadata": {},
   "outputs": [],
   "source": [
    "def loadMNIST():\n",
    "    mndata = MNIST('../MNIST')\n",
    "    imagesTest, labelsTest = mndata.load_training()\n",
    "    imagesTrain, labelsTrain = mndata.load_testing()\n",
    "    return imagesTrain, labelsTrain, imagesTest, labelsTest"
   ]
  },
  {
   "cell_type": "code",
   "execution_count": 130,
   "id": "dimensional-professor",
   "metadata": {},
   "outputs": [],
   "source": [
    "def convolve(im, kernel):\n",
    "    kernelSize = len(kernel)\n",
    "    ret = (np.zeros((len(im) - 2*(kernelSize//2), len(im[0]) - 2*(kernelSize//2))))\n",
    "    for i in range(kernelSize//2, len(im) - kernelSize//2):\n",
    "        for j in range(kernelSize//2, len(im[0]) - kernelSize//2):\n",
    "            for k in range(kernelSize):\n",
    "                for l in range(kernelSize):\n",
    "                    ret[i - kernelSize//2][j - kernelSize//2] += im[i - kernelSize//2 + k][j - kernelSize//2 + l]*kernel[k][l]\n",
    "    return ret"
   ]
  },
  {
   "cell_type": "code",
   "execution_count": 131,
   "id": "approved-respondent",
   "metadata": {},
   "outputs": [],
   "source": [
    "def avgPool(im, k):\n",
    "    ret = np.zeros(((len(im)//2), len(im[0])//2))\n",
    "    for i in range(len(ret)):\n",
    "        for j in range(len(ret[0])):\n",
    "            for p in range(k):\n",
    "                for l in range(k):\n",
    "                    ret[i][j] += im[i*2 + p][j*2 + l]/(k**2)\n",
    "    return (ret)"
   ]
  },
  {
   "cell_type": "code",
   "execution_count": 98,
   "id": "expressed-filename",
   "metadata": {},
   "outputs": [],
   "source": [
    "def reshape(x):\n",
    "    return np.uint8(np.reshape(x, (int(math.sqrt(len(x))), int(math.sqrt(len(x))))))"
   ]
  },
  {
   "cell_type": "code",
   "execution_count": 106,
   "id": "three-utilization",
   "metadata": {},
   "outputs": [],
   "source": [
    "def preprocess(im):\n",
    "    return np.uint8(np.pad(im, (2, 2)))"
   ]
  },
  {
   "cell_type": "code",
   "execution_count": 112,
   "id": "pediatric-modeling",
   "metadata": {},
   "outputs": [],
   "source": [
    "xTrain, yTrain, xTest, yTest = loadMNIST()"
   ]
  },
  {
   "cell_type": "code",
   "execution_count": 113,
   "id": "leading-contract",
   "metadata": {},
   "outputs": [],
   "source": [
    "for i in range(len(xTrain)):\n",
    "    xTrain[i] = preprocess(reshape(xTrain[i]))\n",
    "for i in range(len(xTest)):\n",
    "    xTest[i] = preprocess(reshape(xTest[i]))"
   ]
  },
  {
   "cell_type": "code",
   "execution_count": null,
   "id": "ideal-theme",
   "metadata": {},
   "outputs": [],
   "source": []
  }
 ],
 "metadata": {
  "kernelspec": {
   "display_name": "Python 3",
   "language": "python",
   "name": "python3"
  },
  "language_info": {
   "codemirror_mode": {
    "name": "ipython",
    "version": 3
   },
   "file_extension": ".py",
   "mimetype": "text/x-python",
   "name": "python",
   "nbconvert_exporter": "python",
   "pygments_lexer": "ipython3",
   "version": "3.6.9"
  }
 },
 "nbformat": 4,
 "nbformat_minor": 5
}
