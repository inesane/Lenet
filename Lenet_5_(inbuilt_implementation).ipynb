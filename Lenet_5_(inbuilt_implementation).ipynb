{
  "nbformat": 4,
  "nbformat_minor": 0,
  "metadata": {
    "colab": {
      "name": "Lenet 5 (inbuilt implementation).ipynb",
      "provenance": []
    },
    "kernelspec": {
      "name": "python3",
      "display_name": "Python 3"
    },
    "language_info": {
      "name": "python"
    }
  },
  "cells": [
    {
      "cell_type": "code",
      "metadata": {
        "colab": {
          "base_uri": "https://localhost:8080/"
        },
        "id": "ZtvUa6JfttVW",
        "outputId": "48e76bba-056c-4076-9852-292f300ebc0a"
      },
      "source": [
        "%pylab inline\n",
        "!pip install python-mnist"
      ],
      "execution_count": 17,
      "outputs": [
        {
          "output_type": "stream",
          "name": "stdout",
          "text": [
            "Populating the interactive namespace from numpy and matplotlib\n",
            "Requirement already satisfied: python-mnist in /usr/local/lib/python3.7/dist-packages (0.7)\n"
          ]
        }
      ]
    },
    {
      "cell_type": "code",
      "metadata": {
        "id": "_3CejRtotzOl"
      },
      "source": [
        "from mnist.loader import MNIST\n",
        "import pandas as pd\n",
        "import numpy as np\n",
        "import keras\n",
        "from keras.models import Sequential\n",
        "from keras.layers import Dense, Conv2D, Flatten, AveragePooling2D"
      ],
      "execution_count": 7,
      "outputs": []
    },
    {
      "cell_type": "code",
      "metadata": {
        "id": "48ocnruRt7So"
      },
      "source": [
        "def Accuracy(y_true, y_pred):\n",
        "  corr = 0\n",
        "  for num,i in enumerate(y_true):\n",
        "    if i==y_pred[num]:\n",
        "      corr+=1\n",
        "  corr /= len(y_true)\n",
        "  return corr*100"
      ],
      "execution_count": 8,
      "outputs": []
    },
    {
      "cell_type": "code",
      "metadata": {
        "id": "ZTvrX843uBoW"
      },
      "source": [
        "def loadMNIST():\n",
        "    mndata = MNIST('/content/MNIST')\n",
        "    imagesTest, labelsTest = mndata.load_training()\n",
        "    imagesTrain, labelsTrain = mndata.load_testing()\n",
        "    return imagesTrain, labelsTrain, imagesTest, labelsTest\n",
        "X_train, y_train, X_test, y_test = loadMNIST()\n",
        "X_train = np.array(X_train)\n",
        "X_test = np.array(X_test)"
      ],
      "execution_count": 9,
      "outputs": []
    },
    {
      "cell_type": "code",
      "metadata": {
        "id": "my3xsU7yuEZm"
      },
      "source": [
        "y_train_nn = np.array([ [0 for i in range(10)] for i in y_train ])\n",
        "count = 0\n",
        "for i in y_train:\n",
        "    y_train_nn[count][i] = 1\n",
        "    count+=1\n",
        "y_test_nn = np.array([ [0 for i in range(10)] for i in y_test ])\n",
        "count = 0\n",
        "for i in y_test:\n",
        "    y_test_nn[count][i] = 1\n",
        "    count+=1"
      ],
      "execution_count": 10,
      "outputs": []
    },
    {
      "cell_type": "code",
      "metadata": {
        "id": "5RPOsZAXuKuW"
      },
      "source": [
        "# Pad the data to get 32*32 input dimensions\n",
        "X_train_pad = X_train.reshape(len(X_train), 28, 28)\n",
        "X_test_pad = X_test.reshape(len(X_test), 28, 28)\n",
        "X_train_pad = np.array([np.pad(i, (2)) for i in X_train_pad])\n",
        "X_test_pad = np.array([np.pad(i, (2)) for i in X_test_pad])"
      ],
      "execution_count": 11,
      "outputs": []
    },
    {
      "cell_type": "code",
      "metadata": {
        "colab": {
          "base_uri": "https://localhost:8080/"
        },
        "id": "32EPPiALuqrd",
        "outputId": "dbcf4759-9a2c-4af4-f804-ad02c58de1bd"
      },
      "source": [
        "# model\n",
        "model = Sequential()\n",
        "model.add(Conv2D(6, kernel_size=5, activation=\"tanh\", input_shape=(32,32,1)))\n",
        "model.add(AveragePooling2D(pool_size=(2, 2), strides=(2, 2), padding='valid'))\n",
        "model.add(Conv2D(16, kernel_size=5, activation=\"tanh\"))\n",
        "model.add(AveragePooling2D(pool_size=(2, 2), strides=(2, 2), padding='valid'))\n",
        "model.add(Conv2D(120, kernel_size=5, activation=\"tanh\"))\n",
        "model.add(Flatten())\n",
        "model.add(Dense(184, activation=\"tanh\"))\n",
        "model.add(Dense(10, activation=\"sigmoid\"))\n",
        "model.summary()"
      ],
      "execution_count": 12,
      "outputs": [
        {
          "output_type": "stream",
          "name": "stdout",
          "text": [
            "Model: \"sequential_2\"\n",
            "_________________________________________________________________\n",
            " Layer (type)                Output Shape              Param #   \n",
            "=================================================================\n",
            " conv2d_5 (Conv2D)           (None, 28, 28, 6)         156       \n",
            "                                                                 \n",
            " average_pooling2d_4 (Averag  (None, 14, 14, 6)        0         \n",
            " ePooling2D)                                                     \n",
            "                                                                 \n",
            " conv2d_6 (Conv2D)           (None, 10, 10, 16)        2416      \n",
            "                                                                 \n",
            " average_pooling2d_5 (Averag  (None, 5, 5, 16)         0         \n",
            " ePooling2D)                                                     \n",
            "                                                                 \n",
            " conv2d_7 (Conv2D)           (None, 1, 1, 120)         48120     \n",
            "                                                                 \n",
            " flatten_2 (Flatten)         (None, 120)               0         \n",
            "                                                                 \n",
            " dense_4 (Dense)             (None, 184)               22264     \n",
            "                                                                 \n",
            " dense_5 (Dense)             (None, 10)                1850      \n",
            "                                                                 \n",
            "=================================================================\n",
            "Total params: 74,806\n",
            "Trainable params: 74,806\n",
            "Non-trainable params: 0\n",
            "_________________________________________________________________\n"
          ]
        }
      ]
    },
    {
      "cell_type": "code",
      "metadata": {
        "colab": {
          "base_uri": "https://localhost:8080/"
        },
        "id": "Ma0aIeklusZG",
        "outputId": "543eb195-8e5f-4e38-8eb6-250f63084df3"
      },
      "source": [
        "# Compile, train and find accuracy\n",
        "model.compile(optimizer='adam', loss='categorical_crossentropy', metrics=['accuracy'])\n",
        "history = model.fit(X_train_pad, y_train_nn,\n",
        "                    validation_data = (X_test_pad,y_test_nn), epochs=50, batch_size=64)"
      ],
      "execution_count": 13,
      "outputs": [
        {
          "output_type": "stream",
          "name": "stdout",
          "text": [
            "Epoch 1/50\n",
            "157/157 [==============================] - 21s 129ms/step - loss: 0.4028 - accuracy: 0.8792 - val_loss: 0.1817 - val_accuracy: 0.9445\n",
            "Epoch 2/50\n",
            "157/157 [==============================] - 20s 127ms/step - loss: 0.1072 - accuracy: 0.9663 - val_loss: 0.1368 - val_accuracy: 0.9583\n",
            "Epoch 3/50\n",
            "157/157 [==============================] - 20s 127ms/step - loss: 0.0809 - accuracy: 0.9732 - val_loss: 0.1278 - val_accuracy: 0.9612\n",
            "Epoch 4/50\n",
            "157/157 [==============================] - 20s 127ms/step - loss: 0.0632 - accuracy: 0.9799 - val_loss: 0.1226 - val_accuracy: 0.9630\n",
            "Epoch 5/50\n",
            "157/157 [==============================] - 20s 127ms/step - loss: 0.0489 - accuracy: 0.9835 - val_loss: 0.1363 - val_accuracy: 0.9587\n",
            "Epoch 6/50\n",
            "157/157 [==============================] - 20s 126ms/step - loss: 0.0416 - accuracy: 0.9853 - val_loss: 0.1388 - val_accuracy: 0.9602\n",
            "Epoch 7/50\n",
            "157/157 [==============================] - 20s 126ms/step - loss: 0.0310 - accuracy: 0.9891 - val_loss: 0.1176 - val_accuracy: 0.9667\n",
            "Epoch 8/50\n",
            "157/157 [==============================] - 20s 126ms/step - loss: 0.0245 - accuracy: 0.9928 - val_loss: 0.1054 - val_accuracy: 0.9708\n",
            "Epoch 9/50\n",
            "157/157 [==============================] - 20s 126ms/step - loss: 0.0238 - accuracy: 0.9916 - val_loss: 0.1056 - val_accuracy: 0.9702\n",
            "Epoch 10/50\n",
            "157/157 [==============================] - 20s 126ms/step - loss: 0.0265 - accuracy: 0.9909 - val_loss: 0.1039 - val_accuracy: 0.9711\n",
            "Epoch 11/50\n",
            "157/157 [==============================] - 20s 126ms/step - loss: 0.0174 - accuracy: 0.9947 - val_loss: 0.1085 - val_accuracy: 0.9712\n",
            "Epoch 12/50\n",
            "157/157 [==============================] - 20s 126ms/step - loss: 0.0162 - accuracy: 0.9946 - val_loss: 0.1097 - val_accuracy: 0.9717\n",
            "Epoch 13/50\n",
            "157/157 [==============================] - 20s 126ms/step - loss: 0.0092 - accuracy: 0.9974 - val_loss: 0.1064 - val_accuracy: 0.9726\n",
            "Epoch 14/50\n",
            "157/157 [==============================] - 20s 126ms/step - loss: 0.0125 - accuracy: 0.9960 - val_loss: 0.1071 - val_accuracy: 0.9729\n",
            "Epoch 15/50\n",
            "157/157 [==============================] - 20s 125ms/step - loss: 0.0059 - accuracy: 0.9986 - val_loss: 0.1072 - val_accuracy: 0.9747\n",
            "Epoch 16/50\n",
            "157/157 [==============================] - 20s 126ms/step - loss: 0.0058 - accuracy: 0.9987 - val_loss: 0.1050 - val_accuracy: 0.9748\n",
            "Epoch 17/50\n",
            "157/157 [==============================] - 20s 126ms/step - loss: 0.0026 - accuracy: 0.9997 - val_loss: 0.1048 - val_accuracy: 0.9750\n",
            "Epoch 18/50\n",
            "157/157 [==============================] - 20s 126ms/step - loss: 0.0125 - accuracy: 0.9956 - val_loss: 0.1313 - val_accuracy: 0.9691\n",
            "Epoch 19/50\n",
            "157/157 [==============================] - 20s 126ms/step - loss: 0.0119 - accuracy: 0.9966 - val_loss: 0.1239 - val_accuracy: 0.9718\n",
            "Epoch 20/50\n",
            "157/157 [==============================] - 20s 126ms/step - loss: 0.0074 - accuracy: 0.9975 - val_loss: 0.1427 - val_accuracy: 0.9682\n",
            "Epoch 21/50\n",
            "157/157 [==============================] - 20s 126ms/step - loss: 0.0076 - accuracy: 0.9974 - val_loss: 0.1544 - val_accuracy: 0.9660\n",
            "Epoch 22/50\n",
            "157/157 [==============================] - 20s 126ms/step - loss: 0.0078 - accuracy: 0.9981 - val_loss: 0.1138 - val_accuracy: 0.9748\n",
            "Epoch 23/50\n",
            "157/157 [==============================] - 20s 127ms/step - loss: 0.0066 - accuracy: 0.9978 - val_loss: 0.1182 - val_accuracy: 0.9738\n",
            "Epoch 24/50\n",
            "157/157 [==============================] - 20s 127ms/step - loss: 0.0061 - accuracy: 0.9982 - val_loss: 0.1188 - val_accuracy: 0.9739\n",
            "Epoch 25/50\n",
            "157/157 [==============================] - 20s 126ms/step - loss: 0.0054 - accuracy: 0.9984 - val_loss: 0.1264 - val_accuracy: 0.9727\n",
            "Epoch 26/50\n",
            "157/157 [==============================] - 20s 126ms/step - loss: 0.0117 - accuracy: 0.9960 - val_loss: 0.1294 - val_accuracy: 0.9722\n",
            "Epoch 27/50\n",
            "157/157 [==============================] - 20s 126ms/step - loss: 0.0090 - accuracy: 0.9964 - val_loss: 0.1326 - val_accuracy: 0.9707\n",
            "Epoch 28/50\n",
            "157/157 [==============================] - 20s 126ms/step - loss: 0.0048 - accuracy: 0.9987 - val_loss: 0.1143 - val_accuracy: 0.9756\n",
            "Epoch 29/50\n",
            "157/157 [==============================] - 20s 126ms/step - loss: 0.0094 - accuracy: 0.9969 - val_loss: 0.1383 - val_accuracy: 0.9709\n",
            "Epoch 30/50\n",
            "157/157 [==============================] - 20s 126ms/step - loss: 0.0072 - accuracy: 0.9975 - val_loss: 0.1371 - val_accuracy: 0.9715\n",
            "Epoch 31/50\n",
            "157/157 [==============================] - 20s 125ms/step - loss: 0.0059 - accuracy: 0.9981 - val_loss: 0.1534 - val_accuracy: 0.9682\n",
            "Epoch 32/50\n",
            "157/157 [==============================] - 20s 126ms/step - loss: 0.0122 - accuracy: 0.9959 - val_loss: 0.1258 - val_accuracy: 0.9737\n",
            "Epoch 33/50\n",
            "157/157 [==============================] - 20s 126ms/step - loss: 0.0053 - accuracy: 0.9985 - val_loss: 0.1132 - val_accuracy: 0.9764\n",
            "Epoch 34/50\n",
            "157/157 [==============================] - 20s 126ms/step - loss: 0.0056 - accuracy: 0.9988 - val_loss: 0.1181 - val_accuracy: 0.9753\n",
            "Epoch 35/50\n",
            "157/157 [==============================] - 20s 126ms/step - loss: 0.0053 - accuracy: 0.9984 - val_loss: 0.1286 - val_accuracy: 0.9741\n",
            "Epoch 36/50\n",
            "157/157 [==============================] - 20s 125ms/step - loss: 0.0028 - accuracy: 0.9993 - val_loss: 0.1347 - val_accuracy: 0.9728\n",
            "Epoch 37/50\n",
            "157/157 [==============================] - 20s 126ms/step - loss: 0.0027 - accuracy: 0.9993 - val_loss: 0.1191 - val_accuracy: 0.9756\n",
            "Epoch 38/50\n",
            "157/157 [==============================] - 20s 127ms/step - loss: 9.1170e-04 - accuracy: 0.9998 - val_loss: 0.1135 - val_accuracy: 0.9766\n",
            "Epoch 39/50\n",
            "157/157 [==============================] - 20s 127ms/step - loss: 1.7192e-04 - accuracy: 1.0000 - val_loss: 0.1117 - val_accuracy: 0.9772\n",
            "Epoch 40/50\n",
            "157/157 [==============================] - 20s 127ms/step - loss: 1.1437e-04 - accuracy: 1.0000 - val_loss: 0.1116 - val_accuracy: 0.9774\n",
            "Epoch 41/50\n",
            "157/157 [==============================] - 20s 127ms/step - loss: 9.8524e-05 - accuracy: 1.0000 - val_loss: 0.1114 - val_accuracy: 0.9775\n",
            "Epoch 42/50\n",
            "157/157 [==============================] - 20s 127ms/step - loss: 8.7800e-05 - accuracy: 1.0000 - val_loss: 0.1115 - val_accuracy: 0.9777\n",
            "Epoch 43/50\n",
            "157/157 [==============================] - 20s 127ms/step - loss: 7.9929e-05 - accuracy: 1.0000 - val_loss: 0.1115 - val_accuracy: 0.9778\n",
            "Epoch 44/50\n",
            "157/157 [==============================] - 20s 127ms/step - loss: 7.2882e-05 - accuracy: 1.0000 - val_loss: 0.1115 - val_accuracy: 0.9779\n",
            "Epoch 45/50\n",
            "157/157 [==============================] - 20s 127ms/step - loss: 6.7147e-05 - accuracy: 1.0000 - val_loss: 0.1114 - val_accuracy: 0.9779\n",
            "Epoch 46/50\n",
            "157/157 [==============================] - 20s 127ms/step - loss: 6.2274e-05 - accuracy: 1.0000 - val_loss: 0.1118 - val_accuracy: 0.9779\n",
            "Epoch 47/50\n",
            "157/157 [==============================] - 20s 127ms/step - loss: 5.7850e-05 - accuracy: 1.0000 - val_loss: 0.1119 - val_accuracy: 0.9780\n",
            "Epoch 48/50\n",
            "157/157 [==============================] - 20s 128ms/step - loss: 5.3809e-05 - accuracy: 1.0000 - val_loss: 0.1119 - val_accuracy: 0.9782\n",
            "Epoch 49/50\n",
            "157/157 [==============================] - 20s 126ms/step - loss: 5.0334e-05 - accuracy: 1.0000 - val_loss: 0.1121 - val_accuracy: 0.9782\n",
            "Epoch 50/50\n",
            "157/157 [==============================] - 20s 128ms/step - loss: 4.6995e-05 - accuracy: 1.0000 - val_loss: 0.1123 - val_accuracy: 0.9783\n"
          ]
        }
      ]
    },
    {
      "cell_type": "code",
      "metadata": {
        "colab": {
          "base_uri": "https://localhost:8080/"
        },
        "id": "eA1DG4vz2dH6",
        "outputId": "a6c6fc03-b080-4bcc-a240-61aeae25321d"
      },
      "source": [
        "print(\"Accuracy of Lenet 5: \",history.history[\"val_accuracy\"][-1]*100, \"%\" )"
      ],
      "execution_count": 21,
      "outputs": [
        {
          "output_type": "stream",
          "name": "stdout",
          "text": [
            "Accuracy of Lenet 5:  97.83499836921692 %\n"
          ]
        }
      ]
    },
    {
      "cell_type": "code",
      "metadata": {
        "colab": {
          "base_uri": "https://localhost:8080/",
          "height": 284
        },
        "id": "34ufyXbz1uzF",
        "outputId": "1398b0a3-200d-400c-d542-76de78bb02ab"
      },
      "source": [
        "plot(history.history[\"val_accuracy\"], label=\"Testing Data\")\n",
        "plot(history.history[\"accuracy\"], label=\"Training Data\")\n",
        "legend()"
      ],
      "execution_count": 19,
      "outputs": [
        {
          "output_type": "execute_result",
          "data": {
            "text/plain": [
              "<matplotlib.legend.Legend at 0x7f36122db110>"
            ]
          },
          "metadata": {},
          "execution_count": 19
        },
        {
          "output_type": "display_data",
          "data": {
            "image/png": "[encoded data removed]",
            "text/plain": [
              "<Figure size 432x288 with 1 Axes>"
            ]
          },
          "metadata": {
            "needs_background": "light"
          }
        }
      ]
    },
    {
      "cell_type": "code",
      "metadata": {
        "id": "UlcWUBgG1wlV"
      },
      "source": [
        ""
      ],
      "execution_count": null,
      "outputs": []
    }
  ]
}