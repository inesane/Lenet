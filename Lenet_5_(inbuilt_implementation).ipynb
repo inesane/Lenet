{
  "nbformat": 4,
  "nbformat_minor": 0,
  "metadata": {
    "colab": {
      "name": "Lenet 5 (inbuilt implementation).ipynb",
      "provenance": []
    },
    "kernelspec": {
      "name": "python3",
      "display_name": "Python 3"
    },
    "language_info": {
      "name": "python"
    }
  },
  "cells": [
    {
      "cell_type": "code",
      "metadata": {
        "colab": {
          "base_uri": "https://localhost:8080/"
        },
        "id": "ZtvUa6JfttVW",
        "outputId": "0ff93844-ba44-4ae9-b72a-6e829b115738"
      },
      "source": [
        "%pylab inline\n",
        "!pip install python-mnist"
      ],
      "execution_count": 1,
      "outputs": [
        {
          "output_type": "stream",
          "name": "stdout",
          "text": [
            "Populating the interactive namespace from numpy and matplotlib\n",
            "Requirement already satisfied: python-mnist in /usr/local/lib/python3.7/dist-packages (0.7)\n"
          ]
        }
      ]
    },
    {
      "cell_type": "code",
      "metadata": {
        "id": "_3CejRtotzOl"
      },
      "source": [
        "from mnist.loader import MNIST\n",
        "import pandas as pd\n",
        "import numpy as np\n",
        "import keras\n",
        "from keras.models import Sequential\n",
        "from keras.layers import Dense, Conv2D, Flatten, AveragePooling2D"
      ],
      "execution_count": 2,
      "outputs": []
    },
    {
      "cell_type": "code",
      "metadata": {
        "id": "48ocnruRt7So"
      },
      "source": [
        "def Accuracy(y_true, y_pred):\n",
        "  corr = 0\n",
        "  for num,i in enumerate(y_true):\n",
        "    if i==y_pred[num]:\n",
        "      corr+=1\n",
        "  corr /= len(y_true)\n",
        "  return corr*100"
      ],
      "execution_count": 3,
      "outputs": []
    },
    {
      "cell_type": "code",
      "metadata": {
        "id": "ZTvrX843uBoW"
      },
      "source": [
        "def loadMNIST():\n",
        "    mndata = MNIST('/content/MNIST')\n",
        "    imagesTest, labelsTest = mndata.load_training()\n",
        "    imagesTrain, labelsTrain = mndata.load_testing()\n",
        "    return imagesTrain, labelsTrain, imagesTest, labelsTest\n",
        "X_train, y_train, X_test, y_test = loadMNIST()\n",
        "X_train = np.array(X_train)\n",
        "X_test = np.array(X_test)"
      ],
      "execution_count": 4,
      "outputs": []
    },
    {
      "cell_type": "code",
      "metadata": {
        "id": "my3xsU7yuEZm"
      },
      "source": [
        "y_train_nn = np.array([ [0 for i in range(10)] for i in y_train ])\n",
        "count = 0\n",
        "for i in y_train:\n",
        "    y_train_nn[count][i] = 1\n",
        "    count+=1\n",
        "y_test_nn = np.array([ [0 for i in range(10)] for i in y_test ])\n",
        "count = 0\n",
        "for i in y_test:\n",
        "    y_test_nn[count][i] = 1\n",
        "    count+=1"
      ],
      "execution_count": 5,
      "outputs": []
    },
    {
      "cell_type": "code",
      "metadata": {
        "id": "5RPOsZAXuKuW"
      },
      "source": [
        "# Pad the data to get 32*32 input dimensions\n",
        "X_train_pad = X_train.reshape(len(X_train), 28, 28)\n",
        "X_test_pad = X_test.reshape(len(X_test), 28, 28)\n",
        "X_train_pad = np.array([np.pad(i, (2)) for i in X_train_pad])\n",
        "X_test_pad = np.array([np.pad(i, (2)) for i in X_test_pad])"
      ],
      "execution_count": 6,
      "outputs": []
    },
    {
      "cell_type": "code",
      "metadata": {
        "colab": {
          "base_uri": "https://localhost:8080/"
        },
        "id": "32EPPiALuqrd",
        "outputId": "f60ca986-651f-487e-ac48-3da51aad2d03"
      },
      "source": [
        "# model\n",
        "model = Sequential()\n",
        "model.add(Conv2D(6, kernel_size=5, activation=\"tanh\", input_shape=(32,32,1)))\n",
        "model.add(AveragePooling2D(pool_size=(2, 2), strides=(2, 2), padding='valid'))\n",
        "model.add(Conv2D(16, kernel_size=5, activation=\"tanh\"))\n",
        "model.add(AveragePooling2D(pool_size=(2, 2), strides=(2, 2), padding='valid'))\n",
        "model.add(Conv2D(120, kernel_size=5, activation=\"tanh\"))\n",
        "model.add(Flatten())\n",
        "model.add(Dense(84, activation=\"tanh\"))\n",
        "model.add(Dense(10, activation=\"sigmoid\"))\n",
        "model.summary()"
      ],
      "execution_count": 7,
      "outputs": [
        {
          "output_type": "stream",
          "name": "stdout",
          "text": [
            "Model: \"sequential\"\n",
            "_________________________________________________________________\n",
            " Layer (type)                Output Shape              Param #   \n",
            "=================================================================\n",
            " conv2d (Conv2D)             (None, 28, 28, 6)         156       \n",
            "                                                                 \n",
            " average_pooling2d (AverageP  (None, 14, 14, 6)        0         \n",
            " ooling2D)                                                       \n",
            "                                                                 \n",
            " conv2d_1 (Conv2D)           (None, 10, 10, 16)        2416      \n",
            "                                                                 \n",
            " average_pooling2d_1 (Averag  (None, 5, 5, 16)         0         \n",
            " ePooling2D)                                                     \n",
            "                                                                 \n",
            " conv2d_2 (Conv2D)           (None, 1, 1, 120)         48120     \n",
            "                                                                 \n",
            " flatten (Flatten)           (None, 120)               0         \n",
            "                                                                 \n",
            " dense (Dense)               (None, 84)                10164     \n",
            "                                                                 \n",
            " dense_1 (Dense)             (None, 10)                850       \n",
            "                                                                 \n",
            "=================================================================\n",
            "Total params: 61,706\n",
            "Trainable params: 61,706\n",
            "Non-trainable params: 0\n",
            "_________________________________________________________________\n"
          ]
        }
      ]
    },
    {
      "cell_type": "code",
      "metadata": {
        "colab": {
          "base_uri": "https://localhost:8080/"
        },
        "id": "Ma0aIeklusZG",
        "outputId": "9b19540a-235f-4e47-c649-e66d7a1119a9"
      },
      "source": [
        "# Compile, train and find accuracy\n",
        "model.compile(optimizer='adam', loss='categorical_crossentropy', metrics=['accuracy'])\n",
        "history = model.fit(X_train_pad, y_train_nn,\n",
        "                    validation_data = (X_test_pad,y_test_nn), epochs=50, batch_size=64)"
      ],
      "execution_count": 8,
      "outputs": [
        {
          "output_type": "stream",
          "name": "stdout",
          "text": [
            "Epoch 1/50\n",
            "157/157 [==============================] - 21s 130ms/step - loss: 0.4104 - accuracy: 0.8914 - val_loss: 0.1912 - val_accuracy: 0.9436\n",
            "Epoch 2/50\n",
            "157/157 [==============================] - 20s 126ms/step - loss: 0.1186 - accuracy: 0.9647 - val_loss: 0.1399 - val_accuracy: 0.9579\n",
            "Epoch 3/50\n",
            "157/157 [==============================] - 20s 126ms/step - loss: 0.0809 - accuracy: 0.9764 - val_loss: 0.1095 - val_accuracy: 0.9659\n",
            "Epoch 4/50\n",
            "157/157 [==============================] - 20s 127ms/step - loss: 0.0612 - accuracy: 0.9813 - val_loss: 0.1107 - val_accuracy: 0.9654\n",
            "Epoch 5/50\n",
            "157/157 [==============================] - 20s 126ms/step - loss: 0.0464 - accuracy: 0.9850 - val_loss: 0.1173 - val_accuracy: 0.9645\n",
            "Epoch 6/50\n",
            "157/157 [==============================] - 20s 125ms/step - loss: 0.0422 - accuracy: 0.9875 - val_loss: 0.1141 - val_accuracy: 0.9656\n",
            "Epoch 7/50\n",
            "157/157 [==============================] - 20s 126ms/step - loss: 0.0295 - accuracy: 0.9900 - val_loss: 0.0956 - val_accuracy: 0.9721\n",
            "Epoch 8/50\n",
            "157/157 [==============================] - 20s 125ms/step - loss: 0.0239 - accuracy: 0.9920 - val_loss: 0.0885 - val_accuracy: 0.9736\n",
            "Epoch 9/50\n",
            "157/157 [==============================] - 20s 126ms/step - loss: 0.0190 - accuracy: 0.9942 - val_loss: 0.0881 - val_accuracy: 0.9742\n",
            "Epoch 10/50\n",
            "157/157 [==============================] - 20s 125ms/step - loss: 0.0142 - accuracy: 0.9962 - val_loss: 0.0884 - val_accuracy: 0.9745\n",
            "Epoch 11/50\n",
            "157/157 [==============================] - 20s 125ms/step - loss: 0.0129 - accuracy: 0.9972 - val_loss: 0.0940 - val_accuracy: 0.9737\n",
            "Epoch 12/50\n",
            "157/157 [==============================] - 20s 125ms/step - loss: 0.0128 - accuracy: 0.9968 - val_loss: 0.0878 - val_accuracy: 0.9751\n",
            "Epoch 13/50\n",
            "157/157 [==============================] - 20s 125ms/step - loss: 0.0164 - accuracy: 0.9953 - val_loss: 0.1128 - val_accuracy: 0.9693\n",
            "Epoch 14/50\n",
            "157/157 [==============================] - 20s 125ms/step - loss: 0.0143 - accuracy: 0.9959 - val_loss: 0.0955 - val_accuracy: 0.9735\n",
            "Epoch 15/50\n",
            "157/157 [==============================] - 20s 125ms/step - loss: 0.0076 - accuracy: 0.9977 - val_loss: 0.0880 - val_accuracy: 0.9758\n",
            "Epoch 16/50\n",
            "157/157 [==============================] - 20s 125ms/step - loss: 0.0053 - accuracy: 0.9991 - val_loss: 0.0836 - val_accuracy: 0.9776\n",
            "Epoch 17/50\n",
            "157/157 [==============================] - 20s 125ms/step - loss: 0.0027 - accuracy: 0.9997 - val_loss: 0.0849 - val_accuracy: 0.9779\n",
            "Epoch 18/50\n",
            "157/157 [==============================] - 20s 125ms/step - loss: 0.0023 - accuracy: 0.9999 - val_loss: 0.0829 - val_accuracy: 0.9784\n",
            "Epoch 19/50\n",
            "157/157 [==============================] - 19s 125ms/step - loss: 0.0015 - accuracy: 1.0000 - val_loss: 0.0841 - val_accuracy: 0.9787\n",
            "Epoch 20/50\n",
            "157/157 [==============================] - 19s 125ms/step - loss: 0.0013 - accuracy: 0.9999 - val_loss: 0.0852 - val_accuracy: 0.9780\n",
            "Epoch 21/50\n",
            "157/157 [==============================] - 20s 125ms/step - loss: 0.0018 - accuracy: 0.9997 - val_loss: 0.0912 - val_accuracy: 0.9768\n",
            "Epoch 22/50\n",
            "157/157 [==============================] - 20s 125ms/step - loss: 0.0223 - accuracy: 0.9938 - val_loss: 0.1352 - val_accuracy: 0.9652\n",
            "Epoch 23/50\n",
            "157/157 [==============================] - 20s 126ms/step - loss: 0.0197 - accuracy: 0.9942 - val_loss: 0.1109 - val_accuracy: 0.9724\n",
            "Epoch 24/50\n",
            "157/157 [==============================] - 20s 128ms/step - loss: 0.0067 - accuracy: 0.9982 - val_loss: 0.0900 - val_accuracy: 0.9772\n",
            "Epoch 25/50\n",
            "157/157 [==============================] - 20s 127ms/step - loss: 0.0023 - accuracy: 0.9997 - val_loss: 0.0915 - val_accuracy: 0.9771\n",
            "Epoch 26/50\n",
            "157/157 [==============================] - 20s 126ms/step - loss: 0.0013 - accuracy: 0.9997 - val_loss: 0.0911 - val_accuracy: 0.9778\n",
            "Epoch 27/50\n",
            "157/157 [==============================] - 20s 128ms/step - loss: 0.0090 - accuracy: 0.9974 - val_loss: 0.1149 - val_accuracy: 0.9721\n",
            "Epoch 28/50\n",
            "157/157 [==============================] - 20s 127ms/step - loss: 0.0146 - accuracy: 0.9954 - val_loss: 0.1105 - val_accuracy: 0.9729\n",
            "Epoch 29/50\n",
            "157/157 [==============================] - 20s 127ms/step - loss: 0.0187 - accuracy: 0.9935 - val_loss: 0.1136 - val_accuracy: 0.9717\n",
            "Epoch 30/50\n",
            "157/157 [==============================] - 20s 128ms/step - loss: 0.0058 - accuracy: 0.9986 - val_loss: 0.0907 - val_accuracy: 0.9781\n",
            "Epoch 31/50\n",
            "157/157 [==============================] - 20s 127ms/step - loss: 9.8623e-04 - accuracy: 1.0000 - val_loss: 0.0891 - val_accuracy: 0.9789\n",
            "Epoch 32/50\n",
            "157/157 [==============================] - 20s 128ms/step - loss: 5.4918e-04 - accuracy: 1.0000 - val_loss: 0.0879 - val_accuracy: 0.9794\n",
            "Epoch 33/50\n",
            "157/157 [==============================] - 20s 128ms/step - loss: 3.9763e-04 - accuracy: 1.0000 - val_loss: 0.0887 - val_accuracy: 0.9793\n",
            "Epoch 34/50\n",
            "157/157 [==============================] - 20s 129ms/step - loss: 3.3607e-04 - accuracy: 1.0000 - val_loss: 0.0884 - val_accuracy: 0.9796\n",
            "Epoch 35/50\n",
            "157/157 [==============================] - 20s 128ms/step - loss: 2.9326e-04 - accuracy: 1.0000 - val_loss: 0.0887 - val_accuracy: 0.9797\n",
            "Epoch 36/50\n",
            "157/157 [==============================] - 20s 127ms/step - loss: 2.6271e-04 - accuracy: 1.0000 - val_loss: 0.0887 - val_accuracy: 0.9797\n",
            "Epoch 37/50\n",
            "157/157 [==============================] - 20s 127ms/step - loss: 2.3657e-04 - accuracy: 1.0000 - val_loss: 0.0889 - val_accuracy: 0.9797\n",
            "Epoch 38/50\n",
            "157/157 [==============================] - 20s 127ms/step - loss: 2.1542e-04 - accuracy: 1.0000 - val_loss: 0.0894 - val_accuracy: 0.9798\n",
            "Epoch 39/50\n",
            "157/157 [==============================] - 20s 127ms/step - loss: 1.9672e-04 - accuracy: 1.0000 - val_loss: 0.0897 - val_accuracy: 0.9799\n",
            "Epoch 40/50\n",
            "157/157 [==============================] - 20s 126ms/step - loss: 1.7968e-04 - accuracy: 1.0000 - val_loss: 0.0896 - val_accuracy: 0.9800\n",
            "Epoch 41/50\n",
            "157/157 [==============================] - 20s 126ms/step - loss: 1.6576e-04 - accuracy: 1.0000 - val_loss: 0.0899 - val_accuracy: 0.9800\n",
            "Epoch 42/50\n",
            "157/157 [==============================] - 20s 125ms/step - loss: 1.5271e-04 - accuracy: 1.0000 - val_loss: 0.0903 - val_accuracy: 0.9801\n",
            "Epoch 43/50\n",
            "157/157 [==============================] - 20s 126ms/step - loss: 1.3981e-04 - accuracy: 1.0000 - val_loss: 0.0908 - val_accuracy: 0.9800\n",
            "Epoch 44/50\n",
            "157/157 [==============================] - 20s 125ms/step - loss: 1.2922e-04 - accuracy: 1.0000 - val_loss: 0.0909 - val_accuracy: 0.9802\n",
            "Epoch 45/50\n",
            "157/157 [==============================] - 20s 126ms/step - loss: 1.2017e-04 - accuracy: 1.0000 - val_loss: 0.0911 - val_accuracy: 0.9801\n",
            "Epoch 46/50\n",
            "157/157 [==============================] - 20s 126ms/step - loss: 1.1101e-04 - accuracy: 1.0000 - val_loss: 0.0917 - val_accuracy: 0.9802\n",
            "Epoch 47/50\n",
            "157/157 [==============================] - 20s 125ms/step - loss: 1.0286e-04 - accuracy: 1.0000 - val_loss: 0.0917 - val_accuracy: 0.9801\n",
            "Epoch 48/50\n",
            "157/157 [==============================] - 20s 126ms/step - loss: 9.5867e-05 - accuracy: 1.0000 - val_loss: 0.0921 - val_accuracy: 0.9802\n",
            "Epoch 49/50\n",
            "157/157 [==============================] - 20s 127ms/step - loss: 8.8901e-05 - accuracy: 1.0000 - val_loss: 0.0925 - val_accuracy: 0.9801\n",
            "Epoch 50/50\n",
            "157/157 [==============================] - 20s 126ms/step - loss: 8.2139e-05 - accuracy: 1.0000 - val_loss: 0.0926 - val_accuracy: 0.9802\n"
          ]
        }
      ]
    },
    {
      "cell_type": "code",
      "metadata": {
        "colab": {
          "base_uri": "https://localhost:8080/"
        },
        "id": "eA1DG4vz2dH6",
        "outputId": "d92c5e59-b9af-45af-b2d9-4e914027fbdb"
      },
      "source": [
        "print(\"Accuracy of Lenet 5: \",history.history[\"val_accuracy\"][-1]*100, \"%\" )"
      ],
      "execution_count": 9,
      "outputs": [
        {
          "output_type": "stream",
          "name": "stdout",
          "text": [
            "Accuracy of Lenet 5:  98.02166819572449 %\n"
          ]
        }
      ]
    },
    {
      "cell_type": "code",
      "metadata": {
        "colab": {
          "base_uri": "https://localhost:8080/",
          "height": 284
        },
        "id": "34ufyXbz1uzF",
        "outputId": "b460b601-edb4-4814-827e-dc5374296404"
      },
      "source": [
        "plot(history.history[\"val_accuracy\"], label=\"Testing Data\")\n",
        "plot(history.history[\"accuracy\"], label=\"Training Data\")\n",
        "legend()"
      ],
      "execution_count": 10,
      "outputs": [
        {
          "output_type": "execute_result",
          "data": {
            "text/plain": [
              "<matplotlib.legend.Legend at 0x7fc8c7d5f090>"
            ]
          },
          "metadata": {},
          "execution_count": 10
        },
        {
          "output_type": "display_data",
          "data": {
            "image/png": "[encoded data removed]",
            "text/plain": [
              "<Figure size 432x288 with 1 Axes>"
            ]
          },
          "metadata": {
            "needs_background": "light"
          }
        }
      ]
    }
  ]
}